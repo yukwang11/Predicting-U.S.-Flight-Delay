{
 "cells": [
  {
   "cell_type": "code",
   "execution_count": 1,
   "metadata": {},
   "outputs": [],
   "source": [
    "# Import all the libraries\n",
    "import warnings\n",
    "warnings.filterwarnings(\"ignore\")\n",
    "import pandas as pd\n",
    "import numpy as np\n",
    "import seaborn as sns\n",
    "import matplotlib.pyplot as plt\n",
    "import math\n",
    "from sklearn.model_selection import train_test_split\n",
    "from collections import defaultdict\n",
    "from datetime import datetime\n",
    "from statistics import mean\n",
    "from matplotlib import pyplot\n",
    "from scipy.stats import pearsonr\n",
    "from pylab import *            \n",
    "from sklearn.naive_bayes import GaussianNB as GNB, MultinomialNB as MNB, ComplementNB as CNB, BernoulliNB as BNB\n",
    "from sklearn.svm import LinearSVC, SVC\n",
    "from sklearn.model_selection import cross_validate, cross_val_score as cvscore\n",
    "from sklearn.metrics import classification_report, confusion_matrix\n",
    "from sklearn.preprocessing import normalize\n",
    "from sklearn.model_selection import validation_curve, learning_curve\n",
    "from sklearn.ensemble import RandomForestClassifier\n",
    "from scipy import stats"
   ]
  },
  {
   "cell_type": "markdown",
   "metadata": {},
   "source": [
    "## Data preprocessing"
   ]
  },
  {
   "cell_type": "code",
   "execution_count": 2,
   "metadata": {},
   "outputs": [],
   "source": [
    "df=pd.read_csv('flights.csv')"
   ]
  },
  {
   "cell_type": "code",
   "execution_count": 3,
   "metadata": {},
   "outputs": [
    {
     "data": {
      "text/html": [
       "<div>\n",
       "<style scoped>\n",
       "    .dataframe tbody tr th:only-of-type {\n",
       "        vertical-align: middle;\n",
       "    }\n",
       "\n",
       "    .dataframe tbody tr th {\n",
       "        vertical-align: top;\n",
       "    }\n",
       "\n",
       "    .dataframe thead th {\n",
       "        text-align: right;\n",
       "    }\n",
       "</style>\n",
       "<table border=\"1\" class=\"dataframe\">\n",
       "  <thead>\n",
       "    <tr style=\"text-align: right;\">\n",
       "      <th></th>\n",
       "      <th>YEAR</th>\n",
       "      <th>MONTH</th>\n",
       "      <th>DAY</th>\n",
       "      <th>DAY_OF_WEEK</th>\n",
       "      <th>AIRLINE</th>\n",
       "      <th>FLIGHT_NUMBER</th>\n",
       "      <th>TAIL_NUMBER</th>\n",
       "      <th>ORIGIN_AIRPORT</th>\n",
       "      <th>DESTINATION_AIRPORT</th>\n",
       "      <th>SCHEDULED_DEPARTURE</th>\n",
       "      <th>...</th>\n",
       "      <th>ARRIVAL_TIME</th>\n",
       "      <th>ARRIVAL_DELAY</th>\n",
       "      <th>DIVERTED</th>\n",
       "      <th>CANCELLED</th>\n",
       "      <th>CANCELLATION_REASON</th>\n",
       "      <th>AIR_SYSTEM_DELAY</th>\n",
       "      <th>SECURITY_DELAY</th>\n",
       "      <th>AIRLINE_DELAY</th>\n",
       "      <th>LATE_AIRCRAFT_DELAY</th>\n",
       "      <th>WEATHER_DELAY</th>\n",
       "    </tr>\n",
       "  </thead>\n",
       "  <tbody>\n",
       "    <tr>\n",
       "      <td>0</td>\n",
       "      <td>2015</td>\n",
       "      <td>1</td>\n",
       "      <td>1</td>\n",
       "      <td>4</td>\n",
       "      <td>AS</td>\n",
       "      <td>98</td>\n",
       "      <td>N407AS</td>\n",
       "      <td>ANC</td>\n",
       "      <td>SEA</td>\n",
       "      <td>5</td>\n",
       "      <td>...</td>\n",
       "      <td>408.0</td>\n",
       "      <td>-22.0</td>\n",
       "      <td>0</td>\n",
       "      <td>0</td>\n",
       "      <td>NaN</td>\n",
       "      <td>NaN</td>\n",
       "      <td>NaN</td>\n",
       "      <td>NaN</td>\n",
       "      <td>NaN</td>\n",
       "      <td>NaN</td>\n",
       "    </tr>\n",
       "    <tr>\n",
       "      <td>1</td>\n",
       "      <td>2015</td>\n",
       "      <td>1</td>\n",
       "      <td>1</td>\n",
       "      <td>4</td>\n",
       "      <td>AA</td>\n",
       "      <td>2336</td>\n",
       "      <td>N3KUAA</td>\n",
       "      <td>LAX</td>\n",
       "      <td>PBI</td>\n",
       "      <td>10</td>\n",
       "      <td>...</td>\n",
       "      <td>741.0</td>\n",
       "      <td>-9.0</td>\n",
       "      <td>0</td>\n",
       "      <td>0</td>\n",
       "      <td>NaN</td>\n",
       "      <td>NaN</td>\n",
       "      <td>NaN</td>\n",
       "      <td>NaN</td>\n",
       "      <td>NaN</td>\n",
       "      <td>NaN</td>\n",
       "    </tr>\n",
       "    <tr>\n",
       "      <td>2</td>\n",
       "      <td>2015</td>\n",
       "      <td>1</td>\n",
       "      <td>1</td>\n",
       "      <td>4</td>\n",
       "      <td>US</td>\n",
       "      <td>840</td>\n",
       "      <td>N171US</td>\n",
       "      <td>SFO</td>\n",
       "      <td>CLT</td>\n",
       "      <td>20</td>\n",
       "      <td>...</td>\n",
       "      <td>811.0</td>\n",
       "      <td>5.0</td>\n",
       "      <td>0</td>\n",
       "      <td>0</td>\n",
       "      <td>NaN</td>\n",
       "      <td>NaN</td>\n",
       "      <td>NaN</td>\n",
       "      <td>NaN</td>\n",
       "      <td>NaN</td>\n",
       "      <td>NaN</td>\n",
       "    </tr>\n",
       "    <tr>\n",
       "      <td>3</td>\n",
       "      <td>2015</td>\n",
       "      <td>1</td>\n",
       "      <td>1</td>\n",
       "      <td>4</td>\n",
       "      <td>AA</td>\n",
       "      <td>258</td>\n",
       "      <td>N3HYAA</td>\n",
       "      <td>LAX</td>\n",
       "      <td>MIA</td>\n",
       "      <td>20</td>\n",
       "      <td>...</td>\n",
       "      <td>756.0</td>\n",
       "      <td>-9.0</td>\n",
       "      <td>0</td>\n",
       "      <td>0</td>\n",
       "      <td>NaN</td>\n",
       "      <td>NaN</td>\n",
       "      <td>NaN</td>\n",
       "      <td>NaN</td>\n",
       "      <td>NaN</td>\n",
       "      <td>NaN</td>\n",
       "    </tr>\n",
       "    <tr>\n",
       "      <td>4</td>\n",
       "      <td>2015</td>\n",
       "      <td>1</td>\n",
       "      <td>1</td>\n",
       "      <td>4</td>\n",
       "      <td>AS</td>\n",
       "      <td>135</td>\n",
       "      <td>N527AS</td>\n",
       "      <td>SEA</td>\n",
       "      <td>ANC</td>\n",
       "      <td>25</td>\n",
       "      <td>...</td>\n",
       "      <td>259.0</td>\n",
       "      <td>-21.0</td>\n",
       "      <td>0</td>\n",
       "      <td>0</td>\n",
       "      <td>NaN</td>\n",
       "      <td>NaN</td>\n",
       "      <td>NaN</td>\n",
       "      <td>NaN</td>\n",
       "      <td>NaN</td>\n",
       "      <td>NaN</td>\n",
       "    </tr>\n",
       "    <tr>\n",
       "      <td>...</td>\n",
       "      <td>...</td>\n",
       "      <td>...</td>\n",
       "      <td>...</td>\n",
       "      <td>...</td>\n",
       "      <td>...</td>\n",
       "      <td>...</td>\n",
       "      <td>...</td>\n",
       "      <td>...</td>\n",
       "      <td>...</td>\n",
       "      <td>...</td>\n",
       "      <td>...</td>\n",
       "      <td>...</td>\n",
       "      <td>...</td>\n",
       "      <td>...</td>\n",
       "      <td>...</td>\n",
       "      <td>...</td>\n",
       "      <td>...</td>\n",
       "      <td>...</td>\n",
       "      <td>...</td>\n",
       "      <td>...</td>\n",
       "      <td>...</td>\n",
       "    </tr>\n",
       "    <tr>\n",
       "      <td>5819074</td>\n",
       "      <td>2015</td>\n",
       "      <td>12</td>\n",
       "      <td>31</td>\n",
       "      <td>4</td>\n",
       "      <td>B6</td>\n",
       "      <td>688</td>\n",
       "      <td>N657JB</td>\n",
       "      <td>LAX</td>\n",
       "      <td>BOS</td>\n",
       "      <td>2359</td>\n",
       "      <td>...</td>\n",
       "      <td>753.0</td>\n",
       "      <td>-26.0</td>\n",
       "      <td>0</td>\n",
       "      <td>0</td>\n",
       "      <td>NaN</td>\n",
       "      <td>NaN</td>\n",
       "      <td>NaN</td>\n",
       "      <td>NaN</td>\n",
       "      <td>NaN</td>\n",
       "      <td>NaN</td>\n",
       "    </tr>\n",
       "    <tr>\n",
       "      <td>5819075</td>\n",
       "      <td>2015</td>\n",
       "      <td>12</td>\n",
       "      <td>31</td>\n",
       "      <td>4</td>\n",
       "      <td>B6</td>\n",
       "      <td>745</td>\n",
       "      <td>N828JB</td>\n",
       "      <td>JFK</td>\n",
       "      <td>PSE</td>\n",
       "      <td>2359</td>\n",
       "      <td>...</td>\n",
       "      <td>430.0</td>\n",
       "      <td>-16.0</td>\n",
       "      <td>0</td>\n",
       "      <td>0</td>\n",
       "      <td>NaN</td>\n",
       "      <td>NaN</td>\n",
       "      <td>NaN</td>\n",
       "      <td>NaN</td>\n",
       "      <td>NaN</td>\n",
       "      <td>NaN</td>\n",
       "    </tr>\n",
       "    <tr>\n",
       "      <td>5819076</td>\n",
       "      <td>2015</td>\n",
       "      <td>12</td>\n",
       "      <td>31</td>\n",
       "      <td>4</td>\n",
       "      <td>B6</td>\n",
       "      <td>1503</td>\n",
       "      <td>N913JB</td>\n",
       "      <td>JFK</td>\n",
       "      <td>SJU</td>\n",
       "      <td>2359</td>\n",
       "      <td>...</td>\n",
       "      <td>432.0</td>\n",
       "      <td>-8.0</td>\n",
       "      <td>0</td>\n",
       "      <td>0</td>\n",
       "      <td>NaN</td>\n",
       "      <td>NaN</td>\n",
       "      <td>NaN</td>\n",
       "      <td>NaN</td>\n",
       "      <td>NaN</td>\n",
       "      <td>NaN</td>\n",
       "    </tr>\n",
       "    <tr>\n",
       "      <td>5819077</td>\n",
       "      <td>2015</td>\n",
       "      <td>12</td>\n",
       "      <td>31</td>\n",
       "      <td>4</td>\n",
       "      <td>B6</td>\n",
       "      <td>333</td>\n",
       "      <td>N527JB</td>\n",
       "      <td>MCO</td>\n",
       "      <td>SJU</td>\n",
       "      <td>2359</td>\n",
       "      <td>...</td>\n",
       "      <td>330.0</td>\n",
       "      <td>-10.0</td>\n",
       "      <td>0</td>\n",
       "      <td>0</td>\n",
       "      <td>NaN</td>\n",
       "      <td>NaN</td>\n",
       "      <td>NaN</td>\n",
       "      <td>NaN</td>\n",
       "      <td>NaN</td>\n",
       "      <td>NaN</td>\n",
       "    </tr>\n",
       "    <tr>\n",
       "      <td>5819078</td>\n",
       "      <td>2015</td>\n",
       "      <td>12</td>\n",
       "      <td>31</td>\n",
       "      <td>4</td>\n",
       "      <td>B6</td>\n",
       "      <td>839</td>\n",
       "      <td>N534JB</td>\n",
       "      <td>JFK</td>\n",
       "      <td>BQN</td>\n",
       "      <td>2359</td>\n",
       "      <td>...</td>\n",
       "      <td>442.0</td>\n",
       "      <td>2.0</td>\n",
       "      <td>0</td>\n",
       "      <td>0</td>\n",
       "      <td>NaN</td>\n",
       "      <td>NaN</td>\n",
       "      <td>NaN</td>\n",
       "      <td>NaN</td>\n",
       "      <td>NaN</td>\n",
       "      <td>NaN</td>\n",
       "    </tr>\n",
       "  </tbody>\n",
       "</table>\n",
       "<p>5819079 rows × 31 columns</p>\n",
       "</div>"
      ],
      "text/plain": [
       "         YEAR  MONTH  DAY  DAY_OF_WEEK AIRLINE  FLIGHT_NUMBER TAIL_NUMBER  \\\n",
       "0        2015      1    1            4      AS             98      N407AS   \n",
       "1        2015      1    1            4      AA           2336      N3KUAA   \n",
       "2        2015      1    1            4      US            840      N171US   \n",
       "3        2015      1    1            4      AA            258      N3HYAA   \n",
       "4        2015      1    1            4      AS            135      N527AS   \n",
       "...       ...    ...  ...          ...     ...            ...         ...   \n",
       "5819074  2015     12   31            4      B6            688      N657JB   \n",
       "5819075  2015     12   31            4      B6            745      N828JB   \n",
       "5819076  2015     12   31            4      B6           1503      N913JB   \n",
       "5819077  2015     12   31            4      B6            333      N527JB   \n",
       "5819078  2015     12   31            4      B6            839      N534JB   \n",
       "\n",
       "        ORIGIN_AIRPORT DESTINATION_AIRPORT  SCHEDULED_DEPARTURE  ...  \\\n",
       "0                  ANC                 SEA                    5  ...   \n",
       "1                  LAX                 PBI                   10  ...   \n",
       "2                  SFO                 CLT                   20  ...   \n",
       "3                  LAX                 MIA                   20  ...   \n",
       "4                  SEA                 ANC                   25  ...   \n",
       "...                ...                 ...                  ...  ...   \n",
       "5819074            LAX                 BOS                 2359  ...   \n",
       "5819075            JFK                 PSE                 2359  ...   \n",
       "5819076            JFK                 SJU                 2359  ...   \n",
       "5819077            MCO                 SJU                 2359  ...   \n",
       "5819078            JFK                 BQN                 2359  ...   \n",
       "\n",
       "         ARRIVAL_TIME  ARRIVAL_DELAY  DIVERTED  CANCELLED  \\\n",
       "0               408.0          -22.0         0          0   \n",
       "1               741.0           -9.0         0          0   \n",
       "2               811.0            5.0         0          0   \n",
       "3               756.0           -9.0         0          0   \n",
       "4               259.0          -21.0         0          0   \n",
       "...               ...            ...       ...        ...   \n",
       "5819074         753.0          -26.0         0          0   \n",
       "5819075         430.0          -16.0         0          0   \n",
       "5819076         432.0           -8.0         0          0   \n",
       "5819077         330.0          -10.0         0          0   \n",
       "5819078         442.0            2.0         0          0   \n",
       "\n",
       "         CANCELLATION_REASON  AIR_SYSTEM_DELAY  SECURITY_DELAY  AIRLINE_DELAY  \\\n",
       "0                        NaN               NaN             NaN            NaN   \n",
       "1                        NaN               NaN             NaN            NaN   \n",
       "2                        NaN               NaN             NaN            NaN   \n",
       "3                        NaN               NaN             NaN            NaN   \n",
       "4                        NaN               NaN             NaN            NaN   \n",
       "...                      ...               ...             ...            ...   \n",
       "5819074                  NaN               NaN             NaN            NaN   \n",
       "5819075                  NaN               NaN             NaN            NaN   \n",
       "5819076                  NaN               NaN             NaN            NaN   \n",
       "5819077                  NaN               NaN             NaN            NaN   \n",
       "5819078                  NaN               NaN             NaN            NaN   \n",
       "\n",
       "         LATE_AIRCRAFT_DELAY  WEATHER_DELAY  \n",
       "0                        NaN            NaN  \n",
       "1                        NaN            NaN  \n",
       "2                        NaN            NaN  \n",
       "3                        NaN            NaN  \n",
       "4                        NaN            NaN  \n",
       "...                      ...            ...  \n",
       "5819074                  NaN            NaN  \n",
       "5819075                  NaN            NaN  \n",
       "5819076                  NaN            NaN  \n",
       "5819077                  NaN            NaN  \n",
       "5819078                  NaN            NaN  \n",
       "\n",
       "[5819079 rows x 31 columns]"
      ]
     },
     "execution_count": 3,
     "metadata": {},
     "output_type": "execute_result"
    }
   ],
   "source": [
    "df"
   ]
  },
  {
   "cell_type": "code",
   "execution_count": 4,
   "metadata": {},
   "outputs": [
    {
     "name": "stdout",
     "output_type": "stream",
     "text": [
      "YEAR                    0.000000\n",
      "MONTH                   0.000000\n",
      "DAY                     0.000000\n",
      "DAY_OF_WEEK             0.000000\n",
      "AIRLINE                 0.000000\n",
      "FLIGHT_NUMBER           0.000000\n",
      "TAIL_NUMBER             0.252978\n",
      "ORIGIN_AIRPORT          0.000000\n",
      "DESTINATION_AIRPORT     0.000000\n",
      "SCHEDULED_DEPARTURE     0.000000\n",
      "DEPARTURE_TIME          1.480526\n",
      "DEPARTURE_DELAY         1.480526\n",
      "TAXI_OUT                1.530259\n",
      "WHEELS_OFF              1.530259\n",
      "SCHEDULED_TIME          0.000103\n",
      "ELAPSED_TIME            1.805629\n",
      "AIR_TIME                1.805629\n",
      "DISTANCE                0.000000\n",
      "WHEELS_ON               1.589822\n",
      "TAXI_IN                 1.589822\n",
      "SCHEDULED_ARRIVAL       0.000000\n",
      "ARRIVAL_TIME            1.589822\n",
      "ARRIVAL_DELAY           1.805629\n",
      "DIVERTED                0.000000\n",
      "CANCELLED               0.000000\n",
      "CANCELLATION_REASON    98.455357\n",
      "AIR_SYSTEM_DELAY       81.724960\n",
      "SECURITY_DELAY         81.724960\n",
      "AIRLINE_DELAY          81.724960\n",
      "LATE_AIRCRAFT_DELAY    81.724960\n",
      "WEATHER_DELAY          81.724960\n",
      "dtype: float64\n"
     ]
    }
   ],
   "source": [
    "# This step showes the percentages of missing values in each attributes. \n",
    "print(df.isnull().sum()/df.shape[0]*100)\n",
    "# And the outcome suggests that CANCELLATION_REASON, AIR_SYSTEM_DELAY, SECURITY_DELAY, AIRLINE_DELAY,\n",
    "# LATE_AIRCRAFT_DELAY and WEATHER_DELAY have a great proportion of missing values which makes analyzing \n",
    "# of those attributes mpossible. Therefore, they will not be included in the model."
   ]
  },
  {
   "cell_type": "code",
   "execution_count": 5,
   "metadata": {},
   "outputs": [
    {
     "name": "stdout",
     "output_type": "stream",
     "text": [
      "YEAR:\n",
      " [2015] \n",
      "\n",
      "AIRLINES:\n",
      " ['AS' 'AA' 'US' 'DL' 'NK' 'UA' 'HA' 'B6' 'OO' 'EV' 'MQ' 'F9' 'WN' 'VX'] \n",
      "\n",
      "TAIL:\n",
      " ['N407AS' 'N3KUAA' 'N171US' ... 'N7LEAA' 'N850DN' 'N8676A'] \n",
      "\n",
      "count    5.730032e+06\n",
      "mean    -1.341099e+03\n",
      "std      4.977409e+02\n",
      "min     -2.394000e+03\n",
      "25%     -1.740000e+03\n",
      "50%     -1.328000e+03\n",
      "75%     -9.180000e+02\n",
      "max      1.540000e+02\n",
      "Name: test2, dtype: float64 \n",
      "\n",
      "Flight number:\n",
      " [  98 2336  840 ... 6777 6895 6887]\n",
      "Len of unique flight number: 6952 \n",
      "\n",
      "taxi out time:\n",
      " [21.0, 12.0, 16.0, 15.0, 11.0, 18.0, 11.0, 13.0, 17.0, 12.0, 12.0, 21.0, 18.0, 18.0, 28.0, 17.0, 25.0, 11.0, 11.0, 9.0] \n",
      "\n",
      "% of missing values: 1.0\n"
     ]
    }
   ],
   "source": [
    "# Year will not be included in the final model, cuz they all come from the same year.\n",
    "print(\"YEAR:\\n\",df['YEAR'].unique(),\"\\n\")\n",
    "\n",
    "# AirLine\n",
    "print('AIRLINES:\\n',df[\"AIRLINE\"].unique(),\"\\n\")\n",
    "\n",
    "# A tail number refers to an identification number painted on an aircraft, frequently on the tail---google\n",
    "print(\"TAIL:\\n\", df['TAIL_NUMBER'].unique(),'\\n')\n",
    "# Tail_number contributes nothing towards the model, they will be excluded.\n",
    "\n",
    "# To check if the taxi out and wheels off refer to similar circumstances\n",
    "df['test2']=df['TAXI_OUT']-df['WHEELS_OFF']\n",
    "print(df['test2'].describe(),'\\n')\n",
    "# It turns out the std is too big such that they could have different meanings\n",
    "\n",
    "# Check if the flight numbers would affect the model\n",
    "print('Flight number:\\n',df['FLIGHT_NUMBER'].unique())\n",
    "print(\"Len of unique flight number:\",len(list(df['FLIGHT_NUMBER'].unique())),'\\n')\n",
    "# flight numebr doesnot have a valid meaning which means it would not contribute to the model\n",
    "\n",
    "# Taxi-out time is defined as the time between the actual pushback \n",
    "# and wheels-off. Taxi-out time is difficult to predict in hub \n",
    "# airports at peak hours.---google\n",
    "print('taxi out time:\\n',list(df['TAXI_OUT'].head(20)),'\\n')\n",
    "# Taxi-out could be useful, leave it as this stage\n",
    "\n",
    "# To check the proportion of the missing values in the entire dataset\n",
    "print('% of missing values:', (df.shape[0]-df.dropna().shape[0])/df.shape[0])\n",
    "# It turns out the missing values only take a small amount of records in the set. \n",
    "# Therefore, drop them will have litte effect to the model"
   ]
  },
  {
   "cell_type": "code",
   "execution_count": 3,
   "metadata": {},
   "outputs": [],
   "source": [
    "#Read in the useful columns\n",
    "usecols=['YEAR', 'MONTH', 'DAY', 'DAY_OF_WEEK', 'AIRLINE', \n",
    "       'ORIGIN_AIRPORT', 'DESTINATION_AIRPORT',\n",
    "       'SCHEDULED_DEPARTURE', 'DEPARTURE_TIME', 'DEPARTURE_DELAY', 'TAXI_OUT',\n",
    "       'WHEELS_OFF', 'SCHEDULED_TIME', 'ELAPSED_TIME', 'AIR_TIME', 'DISTANCE',\n",
    "       'WHEELS_ON', 'TAXI_IN', 'SCHEDULED_ARRIVAL', 'ARRIVAL_TIME','ARRIVAL_DELAY']\n",
    "ndf=pd.read_csv('flights.csv',usecols=usecols,low_memory=False)"
   ]
  },
  {
   "cell_type": "code",
   "execution_count": 4,
   "metadata": {},
   "outputs": [],
   "source": [
    "ndf = ndf.dropna()"
   ]
  },
  {
   "cell_type": "code",
   "execution_count": 8,
   "metadata": {},
   "outputs": [
    {
     "data": {
      "text/html": [
       "<div>\n",
       "<style scoped>\n",
       "    .dataframe tbody tr th:only-of-type {\n",
       "        vertical-align: middle;\n",
       "    }\n",
       "\n",
       "    .dataframe tbody tr th {\n",
       "        vertical-align: top;\n",
       "    }\n",
       "\n",
       "    .dataframe thead th {\n",
       "        text-align: right;\n",
       "    }\n",
       "</style>\n",
       "<table border=\"1\" class=\"dataframe\">\n",
       "  <thead>\n",
       "    <tr style=\"text-align: right;\">\n",
       "      <th></th>\n",
       "      <th>YEAR</th>\n",
       "      <th>MONTH</th>\n",
       "      <th>DAY</th>\n",
       "      <th>DAY_OF_WEEK</th>\n",
       "      <th>AIRLINE</th>\n",
       "      <th>ORIGIN_AIRPORT</th>\n",
       "      <th>DESTINATION_AIRPORT</th>\n",
       "      <th>SCHEDULED_DEPARTURE</th>\n",
       "      <th>DEPARTURE_TIME</th>\n",
       "      <th>DEPARTURE_DELAY</th>\n",
       "      <th>...</th>\n",
       "      <th>WHEELS_OFF</th>\n",
       "      <th>SCHEDULED_TIME</th>\n",
       "      <th>ELAPSED_TIME</th>\n",
       "      <th>AIR_TIME</th>\n",
       "      <th>DISTANCE</th>\n",
       "      <th>WHEELS_ON</th>\n",
       "      <th>TAXI_IN</th>\n",
       "      <th>SCHEDULED_ARRIVAL</th>\n",
       "      <th>ARRIVAL_TIME</th>\n",
       "      <th>ARRIVAL_DELAY</th>\n",
       "    </tr>\n",
       "  </thead>\n",
       "  <tbody>\n",
       "    <tr>\n",
       "      <td>0</td>\n",
       "      <td>2015</td>\n",
       "      <td>1</td>\n",
       "      <td>1</td>\n",
       "      <td>4</td>\n",
       "      <td>AS</td>\n",
       "      <td>ANC</td>\n",
       "      <td>SEA</td>\n",
       "      <td>5</td>\n",
       "      <td>2354.0</td>\n",
       "      <td>-11.0</td>\n",
       "      <td>...</td>\n",
       "      <td>15.0</td>\n",
       "      <td>205.0</td>\n",
       "      <td>194.0</td>\n",
       "      <td>169.0</td>\n",
       "      <td>1448</td>\n",
       "      <td>404.0</td>\n",
       "      <td>4.0</td>\n",
       "      <td>430</td>\n",
       "      <td>408.0</td>\n",
       "      <td>-22.0</td>\n",
       "    </tr>\n",
       "    <tr>\n",
       "      <td>1</td>\n",
       "      <td>2015</td>\n",
       "      <td>1</td>\n",
       "      <td>1</td>\n",
       "      <td>4</td>\n",
       "      <td>AA</td>\n",
       "      <td>LAX</td>\n",
       "      <td>PBI</td>\n",
       "      <td>10</td>\n",
       "      <td>2.0</td>\n",
       "      <td>-8.0</td>\n",
       "      <td>...</td>\n",
       "      <td>14.0</td>\n",
       "      <td>280.0</td>\n",
       "      <td>279.0</td>\n",
       "      <td>263.0</td>\n",
       "      <td>2330</td>\n",
       "      <td>737.0</td>\n",
       "      <td>4.0</td>\n",
       "      <td>750</td>\n",
       "      <td>741.0</td>\n",
       "      <td>-9.0</td>\n",
       "    </tr>\n",
       "    <tr>\n",
       "      <td>2</td>\n",
       "      <td>2015</td>\n",
       "      <td>1</td>\n",
       "      <td>1</td>\n",
       "      <td>4</td>\n",
       "      <td>US</td>\n",
       "      <td>SFO</td>\n",
       "      <td>CLT</td>\n",
       "      <td>20</td>\n",
       "      <td>18.0</td>\n",
       "      <td>-2.0</td>\n",
       "      <td>...</td>\n",
       "      <td>34.0</td>\n",
       "      <td>286.0</td>\n",
       "      <td>293.0</td>\n",
       "      <td>266.0</td>\n",
       "      <td>2296</td>\n",
       "      <td>800.0</td>\n",
       "      <td>11.0</td>\n",
       "      <td>806</td>\n",
       "      <td>811.0</td>\n",
       "      <td>5.0</td>\n",
       "    </tr>\n",
       "    <tr>\n",
       "      <td>3</td>\n",
       "      <td>2015</td>\n",
       "      <td>1</td>\n",
       "      <td>1</td>\n",
       "      <td>4</td>\n",
       "      <td>AA</td>\n",
       "      <td>LAX</td>\n",
       "      <td>MIA</td>\n",
       "      <td>20</td>\n",
       "      <td>15.0</td>\n",
       "      <td>-5.0</td>\n",
       "      <td>...</td>\n",
       "      <td>30.0</td>\n",
       "      <td>285.0</td>\n",
       "      <td>281.0</td>\n",
       "      <td>258.0</td>\n",
       "      <td>2342</td>\n",
       "      <td>748.0</td>\n",
       "      <td>8.0</td>\n",
       "      <td>805</td>\n",
       "      <td>756.0</td>\n",
       "      <td>-9.0</td>\n",
       "    </tr>\n",
       "    <tr>\n",
       "      <td>4</td>\n",
       "      <td>2015</td>\n",
       "      <td>1</td>\n",
       "      <td>1</td>\n",
       "      <td>4</td>\n",
       "      <td>AS</td>\n",
       "      <td>SEA</td>\n",
       "      <td>ANC</td>\n",
       "      <td>25</td>\n",
       "      <td>24.0</td>\n",
       "      <td>-1.0</td>\n",
       "      <td>...</td>\n",
       "      <td>35.0</td>\n",
       "      <td>235.0</td>\n",
       "      <td>215.0</td>\n",
       "      <td>199.0</td>\n",
       "      <td>1448</td>\n",
       "      <td>254.0</td>\n",
       "      <td>5.0</td>\n",
       "      <td>320</td>\n",
       "      <td>259.0</td>\n",
       "      <td>-21.0</td>\n",
       "    </tr>\n",
       "    <tr>\n",
       "      <td>...</td>\n",
       "      <td>...</td>\n",
       "      <td>...</td>\n",
       "      <td>...</td>\n",
       "      <td>...</td>\n",
       "      <td>...</td>\n",
       "      <td>...</td>\n",
       "      <td>...</td>\n",
       "      <td>...</td>\n",
       "      <td>...</td>\n",
       "      <td>...</td>\n",
       "      <td>...</td>\n",
       "      <td>...</td>\n",
       "      <td>...</td>\n",
       "      <td>...</td>\n",
       "      <td>...</td>\n",
       "      <td>...</td>\n",
       "      <td>...</td>\n",
       "      <td>...</td>\n",
       "      <td>...</td>\n",
       "      <td>...</td>\n",
       "      <td>...</td>\n",
       "    </tr>\n",
       "    <tr>\n",
       "      <td>5819074</td>\n",
       "      <td>2015</td>\n",
       "      <td>12</td>\n",
       "      <td>31</td>\n",
       "      <td>4</td>\n",
       "      <td>B6</td>\n",
       "      <td>LAX</td>\n",
       "      <td>BOS</td>\n",
       "      <td>2359</td>\n",
       "      <td>2355.0</td>\n",
       "      <td>-4.0</td>\n",
       "      <td>...</td>\n",
       "      <td>17.0</td>\n",
       "      <td>320.0</td>\n",
       "      <td>298.0</td>\n",
       "      <td>272.0</td>\n",
       "      <td>2611</td>\n",
       "      <td>749.0</td>\n",
       "      <td>4.0</td>\n",
       "      <td>819</td>\n",
       "      <td>753.0</td>\n",
       "      <td>-26.0</td>\n",
       "    </tr>\n",
       "    <tr>\n",
       "      <td>5819075</td>\n",
       "      <td>2015</td>\n",
       "      <td>12</td>\n",
       "      <td>31</td>\n",
       "      <td>4</td>\n",
       "      <td>B6</td>\n",
       "      <td>JFK</td>\n",
       "      <td>PSE</td>\n",
       "      <td>2359</td>\n",
       "      <td>2355.0</td>\n",
       "      <td>-4.0</td>\n",
       "      <td>...</td>\n",
       "      <td>12.0</td>\n",
       "      <td>227.0</td>\n",
       "      <td>215.0</td>\n",
       "      <td>195.0</td>\n",
       "      <td>1617</td>\n",
       "      <td>427.0</td>\n",
       "      <td>3.0</td>\n",
       "      <td>446</td>\n",
       "      <td>430.0</td>\n",
       "      <td>-16.0</td>\n",
       "    </tr>\n",
       "    <tr>\n",
       "      <td>5819076</td>\n",
       "      <td>2015</td>\n",
       "      <td>12</td>\n",
       "      <td>31</td>\n",
       "      <td>4</td>\n",
       "      <td>B6</td>\n",
       "      <td>JFK</td>\n",
       "      <td>SJU</td>\n",
       "      <td>2359</td>\n",
       "      <td>2350.0</td>\n",
       "      <td>-9.0</td>\n",
       "      <td>...</td>\n",
       "      <td>7.0</td>\n",
       "      <td>221.0</td>\n",
       "      <td>222.0</td>\n",
       "      <td>197.0</td>\n",
       "      <td>1598</td>\n",
       "      <td>424.0</td>\n",
       "      <td>8.0</td>\n",
       "      <td>440</td>\n",
       "      <td>432.0</td>\n",
       "      <td>-8.0</td>\n",
       "    </tr>\n",
       "    <tr>\n",
       "      <td>5819077</td>\n",
       "      <td>2015</td>\n",
       "      <td>12</td>\n",
       "      <td>31</td>\n",
       "      <td>4</td>\n",
       "      <td>B6</td>\n",
       "      <td>MCO</td>\n",
       "      <td>SJU</td>\n",
       "      <td>2359</td>\n",
       "      <td>2353.0</td>\n",
       "      <td>-6.0</td>\n",
       "      <td>...</td>\n",
       "      <td>3.0</td>\n",
       "      <td>161.0</td>\n",
       "      <td>157.0</td>\n",
       "      <td>144.0</td>\n",
       "      <td>1189</td>\n",
       "      <td>327.0</td>\n",
       "      <td>3.0</td>\n",
       "      <td>340</td>\n",
       "      <td>330.0</td>\n",
       "      <td>-10.0</td>\n",
       "    </tr>\n",
       "    <tr>\n",
       "      <td>5819078</td>\n",
       "      <td>2015</td>\n",
       "      <td>12</td>\n",
       "      <td>31</td>\n",
       "      <td>4</td>\n",
       "      <td>B6</td>\n",
       "      <td>JFK</td>\n",
       "      <td>BQN</td>\n",
       "      <td>2359</td>\n",
       "      <td>14.0</td>\n",
       "      <td>15.0</td>\n",
       "      <td>...</td>\n",
       "      <td>28.0</td>\n",
       "      <td>221.0</td>\n",
       "      <td>208.0</td>\n",
       "      <td>189.0</td>\n",
       "      <td>1576</td>\n",
       "      <td>437.0</td>\n",
       "      <td>5.0</td>\n",
       "      <td>440</td>\n",
       "      <td>442.0</td>\n",
       "      <td>2.0</td>\n",
       "    </tr>\n",
       "  </tbody>\n",
       "</table>\n",
       "<p>5714008 rows × 21 columns</p>\n",
       "</div>"
      ],
      "text/plain": [
       "         YEAR  MONTH  DAY  DAY_OF_WEEK AIRLINE ORIGIN_AIRPORT  \\\n",
       "0        2015      1    1            4      AS            ANC   \n",
       "1        2015      1    1            4      AA            LAX   \n",
       "2        2015      1    1            4      US            SFO   \n",
       "3        2015      1    1            4      AA            LAX   \n",
       "4        2015      1    1            4      AS            SEA   \n",
       "...       ...    ...  ...          ...     ...            ...   \n",
       "5819074  2015     12   31            4      B6            LAX   \n",
       "5819075  2015     12   31            4      B6            JFK   \n",
       "5819076  2015     12   31            4      B6            JFK   \n",
       "5819077  2015     12   31            4      B6            MCO   \n",
       "5819078  2015     12   31            4      B6            JFK   \n",
       "\n",
       "        DESTINATION_AIRPORT  SCHEDULED_DEPARTURE  DEPARTURE_TIME  \\\n",
       "0                       SEA                    5          2354.0   \n",
       "1                       PBI                   10             2.0   \n",
       "2                       CLT                   20            18.0   \n",
       "3                       MIA                   20            15.0   \n",
       "4                       ANC                   25            24.0   \n",
       "...                     ...                  ...             ...   \n",
       "5819074                 BOS                 2359          2355.0   \n",
       "5819075                 PSE                 2359          2355.0   \n",
       "5819076                 SJU                 2359          2350.0   \n",
       "5819077                 SJU                 2359          2353.0   \n",
       "5819078                 BQN                 2359            14.0   \n",
       "\n",
       "         DEPARTURE_DELAY  ...  WHEELS_OFF  SCHEDULED_TIME  ELAPSED_TIME  \\\n",
       "0                  -11.0  ...        15.0           205.0         194.0   \n",
       "1                   -8.0  ...        14.0           280.0         279.0   \n",
       "2                   -2.0  ...        34.0           286.0         293.0   \n",
       "3                   -5.0  ...        30.0           285.0         281.0   \n",
       "4                   -1.0  ...        35.0           235.0         215.0   \n",
       "...                  ...  ...         ...             ...           ...   \n",
       "5819074             -4.0  ...        17.0           320.0         298.0   \n",
       "5819075             -4.0  ...        12.0           227.0         215.0   \n",
       "5819076             -9.0  ...         7.0           221.0         222.0   \n",
       "5819077             -6.0  ...         3.0           161.0         157.0   \n",
       "5819078             15.0  ...        28.0           221.0         208.0   \n",
       "\n",
       "         AIR_TIME  DISTANCE  WHEELS_ON  TAXI_IN  SCHEDULED_ARRIVAL  \\\n",
       "0           169.0      1448      404.0      4.0                430   \n",
       "1           263.0      2330      737.0      4.0                750   \n",
       "2           266.0      2296      800.0     11.0                806   \n",
       "3           258.0      2342      748.0      8.0                805   \n",
       "4           199.0      1448      254.0      5.0                320   \n",
       "...           ...       ...        ...      ...                ...   \n",
       "5819074     272.0      2611      749.0      4.0                819   \n",
       "5819075     195.0      1617      427.0      3.0                446   \n",
       "5819076     197.0      1598      424.0      8.0                440   \n",
       "5819077     144.0      1189      327.0      3.0                340   \n",
       "5819078     189.0      1576      437.0      5.0                440   \n",
       "\n",
       "         ARRIVAL_TIME  ARRIVAL_DELAY  \n",
       "0               408.0          -22.0  \n",
       "1               741.0           -9.0  \n",
       "2               811.0            5.0  \n",
       "3               756.0           -9.0  \n",
       "4               259.0          -21.0  \n",
       "...               ...            ...  \n",
       "5819074         753.0          -26.0  \n",
       "5819075         430.0          -16.0  \n",
       "5819076         432.0           -8.0  \n",
       "5819077         330.0          -10.0  \n",
       "5819078         442.0            2.0  \n",
       "\n",
       "[5714008 rows x 21 columns]"
      ]
     },
     "execution_count": 8,
     "metadata": {},
     "output_type": "execute_result"
    }
   ],
   "source": [
    "ndf"
   ]
  },
  {
   "cell_type": "code",
   "execution_count": 9,
   "metadata": {},
   "outputs": [
    {
     "data": {
      "image/png": "[encoded data removed]",
      "text/plain": [
       "<Figure size 864x864 with 1 Axes>"
      ]
     },
     "metadata": {},
     "output_type": "display_data"
    }
   ],
   "source": [
    "X = ndf.groupby(ndf[\"AIRLINE\"]).count().YEAR         # creat pie chart of all airports\n",
    "labels=X.index                                       # check the distribution of all airlines\n",
    "fig = plt.figure(figsize=(12,12))\n",
    "plt.pie(X,labels=labels,autopct='%1.2f%%')       \n",
    "plt.title(\"Pie chart\")\n",
    "plt.show()  "
   ]
  },
  {
   "cell_type": "markdown",
   "metadata": {},
   "source": [
    "## Date cleaning"
   ]
  },
  {
   "cell_type": "code",
   "execution_count": 10,
   "metadata": {},
   "outputs": [
    {
     "data": {
      "text/plain": [
       "Text(0, 0.5, 'Number of records')"
      ]
     },
     "execution_count": 10,
     "metadata": {},
     "output_type": "execute_result"
    },
    {
     "data": {
      "image/png": "[encoded data removed]",
      "text/plain": [
       "<Figure size 432x288 with 1 Axes>"
      ]
     },
     "metadata": {
      "needs_background": "light"
     },
     "output_type": "display_data"
    }
   ],
   "source": [
    "# The target attribute is ARRIVAL_DELAY\n",
    "# Find the distribution of this attribute\n",
    "\n",
    "plt.hist(ndf['ARRIVAL_DELAY'],bins =40)    \n",
    "plt.title(\"Histograpm of delay\",fontsize=15)          \n",
    "plt.xlabel(\"Arrival delay\",fontsize=12)\n",
    "plt.ylabel(\"Number of records\",fontsize=12)"
   ]
  },
  {
   "cell_type": "code",
   "execution_count": 5,
   "metadata": {},
   "outputs": [],
   "source": [
    "r = list(ndf[ndf['ARRIVAL_DELAY'] >250].index)      # Delete the arrival delay which over 250\n",
    "ndf = ndf.drop(index = r) "
   ]
  },
  {
   "cell_type": "code",
   "execution_count": 6,
   "metadata": {},
   "outputs": [],
   "source": [
    "r1 = list(ndf[ndf['ARRIVAL_DELAY'] < -50].index)  # Delete the arrival delay which smaller than -50\n",
    "ndf = ndf.drop(index = r1)"
   ]
  },
  {
   "cell_type": "code",
   "execution_count": 13,
   "metadata": {},
   "outputs": [
    {
     "data": {
      "text/plain": [
       "Text(0, 0.5, 'Number of records')"
      ]
     },
     "execution_count": 13,
     "metadata": {},
     "output_type": "execute_result"
    },
    {
     "data": {
      "image/png": "[encoded data removed]",
      "text/plain": [
       "<Figure size 432x288 with 1 Axes>"
      ]
     },
     "metadata": {
      "needs_background": "light"
     },
     "output_type": "display_data"
    }
   ],
   "source": [
    "plt.hist(ndf['ARRIVAL_DELAY'],bins =40)         # distribution still not good for analysis\n",
    "plt.title(\"Histograpm of delay\",fontsize=15)          \n",
    "plt.xlabel(\"Arrival delay\",fontsize=12)\n",
    "plt.ylabel(\"Number of records\",fontsize=12)"
   ]
  },
  {
   "cell_type": "code",
   "execution_count": 14,
   "metadata": {},
   "outputs": [
    {
     "data": {
      "text/plain": [
       "<matplotlib.axes._subplots.AxesSubplot at 0x2613ba9e648>"
      ]
     },
     "execution_count": 14,
     "metadata": {},
     "output_type": "execute_result"
    },
    {
     "data": {
      "image/png": "[encoded data removed]",
      "text/plain": [
       "<Figure size 432x288 with 1 Axes>"
      ]
     },
     "metadata": {
      "needs_background": "light"
     },
     "output_type": "display_data"
    }
   ],
   "source": [
    "dd = ndf.loc[:,['ARRIVAL_DELAY']].copy()     # use boxplot to find outlier\n",
    "dd.boxplot()"
   ]
  },
  {
   "cell_type": "code",
   "execution_count": 15,
   "metadata": {},
   "outputs": [],
   "source": [
    "po = ndf[ndf[\"ARRIVAL_DELAY\"]>0].copy()   # all records with positive arrival delay\n",
    "ne = ndf[ndf[\"ARRIVAL_DELAY\"]<0].copy()   # all records with negative arrival delay"
   ]
  },
  {
   "cell_type": "code",
   "execution_count": 16,
   "metadata": {},
   "outputs": [
    {
     "data": {
      "text/plain": [
       "count    2.067765e+06\n",
       "mean     3.001858e+01\n",
       "std      3.934909e+01\n",
       "min      1.000000e+00\n",
       "25%      6.000000e+00\n",
       "50%      1.500000e+01\n",
       "75%      3.700000e+01\n",
       "max      2.500000e+02\n",
       "Name: ARRIVAL_DELAY, dtype: float64"
      ]
     },
     "execution_count": 16,
     "metadata": {},
     "output_type": "execute_result"
    }
   ],
   "source": [
    "po.describe().ARRIVAL_DELAY   "
   ]
  },
  {
   "cell_type": "code",
   "execution_count": 7,
   "metadata": {},
   "outputs": [],
   "source": [
    "IQR =  37-6\n",
    "big = 1.5*IQR+37"
   ]
  },
  {
   "cell_type": "code",
   "execution_count": 8,
   "metadata": {},
   "outputs": [],
   "source": [
    "r = list(ndf[ndf['ARRIVAL_DELAY'] > big].index)    # use IQR menthod to find outlier\n",
    "ndf = ndf.drop(index = r)"
   ]
  },
  {
   "cell_type": "code",
   "execution_count": 19,
   "metadata": {},
   "outputs": [
    {
     "data": {
      "text/plain": [
       "Text(0, 0.5, 'Number of records')"
      ]
     },
     "execution_count": 19,
     "metadata": {},
     "output_type": "execute_result"
    },
    {
     "data": {
      "image/png": "[encoded data removed]",
      "text/plain": [
       "<Figure size 432x288 with 1 Axes>"
      ]
     },
     "metadata": {
      "needs_background": "light"
     },
     "output_type": "display_data"
    }
   ],
   "source": [
    "plt.hist(ndf['ARRIVAL_DELAY'],bins =35)                            # good now\n",
    "plt.title(\"Histograpm of delay (wihtout outlier)\",fontsize=15)         \n",
    "plt.xlabel(\"Arrival delay\",fontsize=12)\n",
    "plt.ylabel(\"Number of records\",fontsize=12)"
   ]
  },
  {
   "cell_type": "code",
   "execution_count": 20,
   "metadata": {},
   "outputs": [
    {
     "data": {
      "text/plain": [
       "<matplotlib.axes._subplots.AxesSubplot at 0x2613e2e2688>"
      ]
     },
     "execution_count": 20,
     "metadata": {},
     "output_type": "execute_result"
    },
    {
     "data": {
      "image/png": "[encoded data removed]",
      "text/plain": [
       "<Figure size 432x288 with 1 Axes>"
      ]
     },
     "metadata": {
      "needs_background": "light"
     },
     "output_type": "display_data"
    }
   ],
   "source": [
    "dd = ndf.loc[:,['ARRIVAL_DELAY']].copy()      # check boxplot again\n",
    "dd.boxplot()"
   ]
  },
  {
   "cell_type": "markdown",
   "metadata": {},
   "source": [
    "## Exploratory data analysis (all airlines)"
   ]
  },
  {
   "cell_type": "code",
   "execution_count": 9,
   "metadata": {},
   "outputs": [],
   "source": [
    "ndf['trip_speed'] = ndf.DISTANCE/ndf.AIR_TIME         # creat a new attribute called trip_speed \n",
    "ndf['take_off_hours'] = (ndf.WHEELS_OFF/100).apply(lambda x:int(x))   # creat a new attribute called take_off_hours \n",
    "ndf['delay'] = (ndf.ARRIVAL_DELAY>0)*1                # if flight delay, the value is 1, otherwise is 0"
   ]
  },
  {
   "cell_type": "code",
   "execution_count": 10,
   "metadata": {},
   "outputs": [
    {
     "data": {
      "text/html": [
       "<div>\n",
       "<style scoped>\n",
       "    .dataframe tbody tr th:only-of-type {\n",
       "        vertical-align: middle;\n",
       "    }\n",
       "\n",
       "    .dataframe tbody tr th {\n",
       "        vertical-align: top;\n",
       "    }\n",
       "\n",
       "    .dataframe thead th {\n",
       "        text-align: right;\n",
       "    }\n",
       "</style>\n",
       "<table border=\"1\" class=\"dataframe\">\n",
       "  <thead>\n",
       "    <tr style=\"text-align: right;\">\n",
       "      <th></th>\n",
       "      <th>YEAR</th>\n",
       "      <th>MONTH</th>\n",
       "      <th>DAY</th>\n",
       "      <th>DAY_OF_WEEK</th>\n",
       "      <th>AIRLINE</th>\n",
       "      <th>ORIGIN_AIRPORT</th>\n",
       "      <th>DESTINATION_AIRPORT</th>\n",
       "      <th>SCHEDULED_DEPARTURE</th>\n",
       "      <th>DEPARTURE_TIME</th>\n",
       "      <th>DEPARTURE_DELAY</th>\n",
       "      <th>...</th>\n",
       "      <th>AIR_TIME</th>\n",
       "      <th>DISTANCE</th>\n",
       "      <th>WHEELS_ON</th>\n",
       "      <th>TAXI_IN</th>\n",
       "      <th>SCHEDULED_ARRIVAL</th>\n",
       "      <th>ARRIVAL_TIME</th>\n",
       "      <th>ARRIVAL_DELAY</th>\n",
       "      <th>trip_speed</th>\n",
       "      <th>take_off_hours</th>\n",
       "      <th>delay</th>\n",
       "    </tr>\n",
       "  </thead>\n",
       "  <tbody>\n",
       "    <tr>\n",
       "      <th>0</th>\n",
       "      <td>2015</td>\n",
       "      <td>1</td>\n",
       "      <td>1</td>\n",
       "      <td>4</td>\n",
       "      <td>AS</td>\n",
       "      <td>ANC</td>\n",
       "      <td>SEA</td>\n",
       "      <td>5</td>\n",
       "      <td>2354.0</td>\n",
       "      <td>-11.0</td>\n",
       "      <td>...</td>\n",
       "      <td>169.0</td>\n",
       "      <td>1448</td>\n",
       "      <td>404.0</td>\n",
       "      <td>4.0</td>\n",
       "      <td>430</td>\n",
       "      <td>408.0</td>\n",
       "      <td>-22.0</td>\n",
       "      <td>8.568047</td>\n",
       "      <td>0</td>\n",
       "      <td>0</td>\n",
       "    </tr>\n",
       "    <tr>\n",
       "      <th>1</th>\n",
       "      <td>2015</td>\n",
       "      <td>1</td>\n",
       "      <td>1</td>\n",
       "      <td>4</td>\n",
       "      <td>AA</td>\n",
       "      <td>LAX</td>\n",
       "      <td>PBI</td>\n",
       "      <td>10</td>\n",
       "      <td>2.0</td>\n",
       "      <td>-8.0</td>\n",
       "      <td>...</td>\n",
       "      <td>263.0</td>\n",
       "      <td>2330</td>\n",
       "      <td>737.0</td>\n",
       "      <td>4.0</td>\n",
       "      <td>750</td>\n",
       "      <td>741.0</td>\n",
       "      <td>-9.0</td>\n",
       "      <td>8.859316</td>\n",
       "      <td>0</td>\n",
       "      <td>0</td>\n",
       "    </tr>\n",
       "    <tr>\n",
       "      <th>2</th>\n",
       "      <td>2015</td>\n",
       "      <td>1</td>\n",
       "      <td>1</td>\n",
       "      <td>4</td>\n",
       "      <td>US</td>\n",
       "      <td>SFO</td>\n",
       "      <td>CLT</td>\n",
       "      <td>20</td>\n",
       "      <td>18.0</td>\n",
       "      <td>-2.0</td>\n",
       "      <td>...</td>\n",
       "      <td>266.0</td>\n",
       "      <td>2296</td>\n",
       "      <td>800.0</td>\n",
       "      <td>11.0</td>\n",
       "      <td>806</td>\n",
       "      <td>811.0</td>\n",
       "      <td>5.0</td>\n",
       "      <td>8.631579</td>\n",
       "      <td>0</td>\n",
       "      <td>1</td>\n",
       "    </tr>\n",
       "    <tr>\n",
       "      <th>3</th>\n",
       "      <td>2015</td>\n",
       "      <td>1</td>\n",
       "      <td>1</td>\n",
       "      <td>4</td>\n",
       "      <td>AA</td>\n",
       "      <td>LAX</td>\n",
       "      <td>MIA</td>\n",
       "      <td>20</td>\n",
       "      <td>15.0</td>\n",
       "      <td>-5.0</td>\n",
       "      <td>...</td>\n",
       "      <td>258.0</td>\n",
       "      <td>2342</td>\n",
       "      <td>748.0</td>\n",
       "      <td>8.0</td>\n",
       "      <td>805</td>\n",
       "      <td>756.0</td>\n",
       "      <td>-9.0</td>\n",
       "      <td>9.077519</td>\n",
       "      <td>0</td>\n",
       "      <td>0</td>\n",
       "    </tr>\n",
       "    <tr>\n",
       "      <th>4</th>\n",
       "      <td>2015</td>\n",
       "      <td>1</td>\n",
       "      <td>1</td>\n",
       "      <td>4</td>\n",
       "      <td>AS</td>\n",
       "      <td>SEA</td>\n",
       "      <td>ANC</td>\n",
       "      <td>25</td>\n",
       "      <td>24.0</td>\n",
       "      <td>-1.0</td>\n",
       "      <td>...</td>\n",
       "      <td>199.0</td>\n",
       "      <td>1448</td>\n",
       "      <td>254.0</td>\n",
       "      <td>5.0</td>\n",
       "      <td>320</td>\n",
       "      <td>259.0</td>\n",
       "      <td>-21.0</td>\n",
       "      <td>7.276382</td>\n",
       "      <td>0</td>\n",
       "      <td>0</td>\n",
       "    </tr>\n",
       "    <tr>\n",
       "      <th>...</th>\n",
       "      <td>...</td>\n",
       "      <td>...</td>\n",
       "      <td>...</td>\n",
       "      <td>...</td>\n",
       "      <td>...</td>\n",
       "      <td>...</td>\n",
       "      <td>...</td>\n",
       "      <td>...</td>\n",
       "      <td>...</td>\n",
       "      <td>...</td>\n",
       "      <td>...</td>\n",
       "      <td>...</td>\n",
       "      <td>...</td>\n",
       "      <td>...</td>\n",
       "      <td>...</td>\n",
       "      <td>...</td>\n",
       "      <td>...</td>\n",
       "      <td>...</td>\n",
       "      <td>...</td>\n",
       "      <td>...</td>\n",
       "      <td>...</td>\n",
       "    </tr>\n",
       "    <tr>\n",
       "      <th>5819074</th>\n",
       "      <td>2015</td>\n",
       "      <td>12</td>\n",
       "      <td>31</td>\n",
       "      <td>4</td>\n",
       "      <td>B6</td>\n",
       "      <td>LAX</td>\n",
       "      <td>BOS</td>\n",
       "      <td>2359</td>\n",
       "      <td>2355.0</td>\n",
       "      <td>-4.0</td>\n",
       "      <td>...</td>\n",
       "      <td>272.0</td>\n",
       "      <td>2611</td>\n",
       "      <td>749.0</td>\n",
       "      <td>4.0</td>\n",
       "      <td>819</td>\n",
       "      <td>753.0</td>\n",
       "      <td>-26.0</td>\n",
       "      <td>9.599265</td>\n",
       "      <td>0</td>\n",
       "      <td>0</td>\n",
       "    </tr>\n",
       "    <tr>\n",
       "      <th>5819075</th>\n",
       "      <td>2015</td>\n",
       "      <td>12</td>\n",
       "      <td>31</td>\n",
       "      <td>4</td>\n",
       "      <td>B6</td>\n",
       "      <td>JFK</td>\n",
       "      <td>PSE</td>\n",
       "      <td>2359</td>\n",
       "      <td>2355.0</td>\n",
       "      <td>-4.0</td>\n",
       "      <td>...</td>\n",
       "      <td>195.0</td>\n",
       "      <td>1617</td>\n",
       "      <td>427.0</td>\n",
       "      <td>3.0</td>\n",
       "      <td>446</td>\n",
       "      <td>430.0</td>\n",
       "      <td>-16.0</td>\n",
       "      <td>8.292308</td>\n",
       "      <td>0</td>\n",
       "      <td>0</td>\n",
       "    </tr>\n",
       "    <tr>\n",
       "      <th>5819076</th>\n",
       "      <td>2015</td>\n",
       "      <td>12</td>\n",
       "      <td>31</td>\n",
       "      <td>4</td>\n",
       "      <td>B6</td>\n",
       "      <td>JFK</td>\n",
       "      <td>SJU</td>\n",
       "      <td>2359</td>\n",
       "      <td>2350.0</td>\n",
       "      <td>-9.0</td>\n",
       "      <td>...</td>\n",
       "      <td>197.0</td>\n",
       "      <td>1598</td>\n",
       "      <td>424.0</td>\n",
       "      <td>8.0</td>\n",
       "      <td>440</td>\n",
       "      <td>432.0</td>\n",
       "      <td>-8.0</td>\n",
       "      <td>8.111675</td>\n",
       "      <td>0</td>\n",
       "      <td>0</td>\n",
       "    </tr>\n",
       "    <tr>\n",
       "      <th>5819077</th>\n",
       "      <td>2015</td>\n",
       "      <td>12</td>\n",
       "      <td>31</td>\n",
       "      <td>4</td>\n",
       "      <td>B6</td>\n",
       "      <td>MCO</td>\n",
       "      <td>SJU</td>\n",
       "      <td>2359</td>\n",
       "      <td>2353.0</td>\n",
       "      <td>-6.0</td>\n",
       "      <td>...</td>\n",
       "      <td>144.0</td>\n",
       "      <td>1189</td>\n",
       "      <td>327.0</td>\n",
       "      <td>3.0</td>\n",
       "      <td>340</td>\n",
       "      <td>330.0</td>\n",
       "      <td>-10.0</td>\n",
       "      <td>8.256944</td>\n",
       "      <td>0</td>\n",
       "      <td>0</td>\n",
       "    </tr>\n",
       "    <tr>\n",
       "      <th>5819078</th>\n",
       "      <td>2015</td>\n",
       "      <td>12</td>\n",
       "      <td>31</td>\n",
       "      <td>4</td>\n",
       "      <td>B6</td>\n",
       "      <td>JFK</td>\n",
       "      <td>BQN</td>\n",
       "      <td>2359</td>\n",
       "      <td>14.0</td>\n",
       "      <td>15.0</td>\n",
       "      <td>...</td>\n",
       "      <td>189.0</td>\n",
       "      <td>1576</td>\n",
       "      <td>437.0</td>\n",
       "      <td>5.0</td>\n",
       "      <td>440</td>\n",
       "      <td>442.0</td>\n",
       "      <td>2.0</td>\n",
       "      <td>8.338624</td>\n",
       "      <td>0</td>\n",
       "      <td>1</td>\n",
       "    </tr>\n",
       "  </tbody>\n",
       "</table>\n",
       "<p>5501194 rows × 24 columns</p>\n",
       "</div>"
      ],
      "text/plain": [
       "         YEAR  MONTH  DAY  DAY_OF_WEEK AIRLINE ORIGIN_AIRPORT  \\\n",
       "0        2015      1    1            4      AS            ANC   \n",
       "1        2015      1    1            4      AA            LAX   \n",
       "2        2015      1    1            4      US            SFO   \n",
       "3        2015      1    1            4      AA            LAX   \n",
       "4        2015      1    1            4      AS            SEA   \n",
       "...       ...    ...  ...          ...     ...            ...   \n",
       "5819074  2015     12   31            4      B6            LAX   \n",
       "5819075  2015     12   31            4      B6            JFK   \n",
       "5819076  2015     12   31            4      B6            JFK   \n",
       "5819077  2015     12   31            4      B6            MCO   \n",
       "5819078  2015     12   31            4      B6            JFK   \n",
       "\n",
       "        DESTINATION_AIRPORT  SCHEDULED_DEPARTURE  DEPARTURE_TIME  \\\n",
       "0                       SEA                    5          2354.0   \n",
       "1                       PBI                   10             2.0   \n",
       "2                       CLT                   20            18.0   \n",
       "3                       MIA                   20            15.0   \n",
       "4                       ANC                   25            24.0   \n",
       "...                     ...                  ...             ...   \n",
       "5819074                 BOS                 2359          2355.0   \n",
       "5819075                 PSE                 2359          2355.0   \n",
       "5819076                 SJU                 2359          2350.0   \n",
       "5819077                 SJU                 2359          2353.0   \n",
       "5819078                 BQN                 2359            14.0   \n",
       "\n",
       "         DEPARTURE_DELAY  ...  AIR_TIME  DISTANCE  WHEELS_ON  TAXI_IN  \\\n",
       "0                  -11.0  ...     169.0      1448      404.0      4.0   \n",
       "1                   -8.0  ...     263.0      2330      737.0      4.0   \n",
       "2                   -2.0  ...     266.0      2296      800.0     11.0   \n",
       "3                   -5.0  ...     258.0      2342      748.0      8.0   \n",
       "4                   -1.0  ...     199.0      1448      254.0      5.0   \n",
       "...                  ...  ...       ...       ...        ...      ...   \n",
       "5819074             -4.0  ...     272.0      2611      749.0      4.0   \n",
       "5819075             -4.0  ...     195.0      1617      427.0      3.0   \n",
       "5819076             -9.0  ...     197.0      1598      424.0      8.0   \n",
       "5819077             -6.0  ...     144.0      1189      327.0      3.0   \n",
       "5819078             15.0  ...     189.0      1576      437.0      5.0   \n",
       "\n",
       "         SCHEDULED_ARRIVAL  ARRIVAL_TIME  ARRIVAL_DELAY  trip_speed  \\\n",
       "0                      430         408.0          -22.0    8.568047   \n",
       "1                      750         741.0           -9.0    8.859316   \n",
       "2                      806         811.0            5.0    8.631579   \n",
       "3                      805         756.0           -9.0    9.077519   \n",
       "4                      320         259.0          -21.0    7.276382   \n",
       "...                    ...           ...            ...         ...   \n",
       "5819074                819         753.0          -26.0    9.599265   \n",
       "5819075                446         430.0          -16.0    8.292308   \n",
       "5819076                440         432.0           -8.0    8.111675   \n",
       "5819077                340         330.0          -10.0    8.256944   \n",
       "5819078                440         442.0            2.0    8.338624   \n",
       "\n",
       "         take_off_hours  delay  \n",
       "0                     0      0  \n",
       "1                     0      0  \n",
       "2                     0      1  \n",
       "3                     0      0  \n",
       "4                     0      0  \n",
       "...                 ...    ...  \n",
       "5819074               0      0  \n",
       "5819075               0      0  \n",
       "5819076               0      0  \n",
       "5819077               0      0  \n",
       "5819078               0      1  \n",
       "\n",
       "[5501194 rows x 24 columns]"
      ]
     },
     "execution_count": 10,
     "metadata": {},
     "output_type": "execute_result"
    }
   ],
   "source": [
    "po = ndf[ndf[\"ARRIVAL_DELAY\"]>0].copy() \n",
    "ne = ndf[ndf[\"ARRIVAL_DELAY\"]<0].copy()\n",
    "ndf"
   ]
  },
  {
   "cell_type": "code",
   "execution_count": 23,
   "metadata": {},
   "outputs": [
    {
     "data": {
      "image/png": "[encoded data removed]",
      "text/plain": [
       "<Figure size 432x288 with 2 Axes>"
      ]
     },
     "metadata": {
      "needs_background": "light"
     },
     "output_type": "display_data"
    }
   ],
   "source": [
    "# Find coorealation between all continuous variables\n",
    "continuous_variables=['DEPARTURE_DELAY','TAXI_OUT','DISTANCE','TAXI_IN','trip_speed','ARRIVAL_DELAY']\n",
    "cor_mat = ndf[continuous_variables].corr()\n",
    "\n",
    "plt.imshow(cor_mat)\n",
    "plt.xticks(range(len(continuous_variables)),continuous_variables,rotation='vertical')\n",
    "plt.yticks(range(len(continuous_variables)),continuous_variables)\n",
    "plt.colorbar()\n",
    "plt.title('Correlation between continuous variables')\n",
    "plt.show()"
   ]
  },
  {
   "cell_type": "code",
   "execution_count": 24,
   "metadata": {},
   "outputs": [
    {
     "data": {
      "text/plain": [
       "Text(0, 0.5, 'Number of records')"
      ]
     },
     "execution_count": 24,
     "metadata": {},
     "output_type": "execute_result"
    },
    {
     "data": {
      "image/png": "[encoded data removed]",
      "text/plain": [
       "<Figure size 432x288 with 1 Axes>"
      ]
     },
     "metadata": {
      "needs_background": "light"
     },
     "output_type": "display_data"
    }
   ],
   "source": [
    "# analysis on new attributes\n",
    "\n",
    "plt.hist(ndf['trip_speed'],bins =40)\n",
    "plt.title(\"Histograpm of trip speed\",fontsize=15)                     \n",
    "                                                                    \n",
    "plt.xlabel(\"Trip speed\",fontsize=12)\n",
    "plt.ylabel(\"Number of records\",fontsize=12)"
   ]
  },
  {
   "cell_type": "code",
   "execution_count": 25,
   "metadata": {},
   "outputs": [
    {
     "data": {
      "image/png": "[encoded data removed]",
      "text/plain": [
       "<Figure size 432x288 with 1 Axes>"
      ]
     },
     "metadata": {
      "needs_background": "light"
     },
     "output_type": "display_data"
    }
   ],
   "source": [
    "stats.probplot(ndf['trip_speed'], dist=\"norm\", plot=plt)      # assume tip speed is normal distribution\n",
    "plt.title(\"Normal Q-Q plot\")\n",
    "plt.show()"
   ]
  },
  {
   "cell_type": "code",
   "execution_count": 26,
   "metadata": {},
   "outputs": [
    {
     "data": {
      "text/plain": [
       "Text(0, 0.5, 'Mean value of delay')"
      ]
     },
     "execution_count": 26,
     "metadata": {},
     "output_type": "execute_result"
    },
    {
     "data": {
      "image/png": "[encoded data removed]",
      "text/plain": [
       "<Figure size 432x288 with 1 Axes>"
      ]
     },
     "metadata": {
      "needs_background": "light"
     },
     "output_type": "display_data"
    }
   ],
   "source": [
    "# which airlines is most delayed\n",
    "\n",
    "s2 = po.groupby('AIRLINE').mean().ARRIVAL_DELAY   \n",
    "ss = s2.sort_values(ascending=False)\n",
    "label = list(ss.index)\n",
    "x = list(ss)\n",
    "\n",
    "plt.bar(x = label[0:10], height = x[0:10])\n",
    "plt.title(\"Bar chart of average delay time of airlines\",fontsize=15)     \n",
    "plt.xlabel(\"Airline\",fontsize=12)\n",
    "plt.ylabel(\"Mean value of delay\",fontsize=12)"
   ]
  },
  {
   "cell_type": "code",
   "execution_count": 27,
   "metadata": {},
   "outputs": [
    {
     "data": {
      "text/plain": [
       "(0, 23)"
      ]
     },
     "execution_count": 27,
     "metadata": {},
     "output_type": "execute_result"
    },
    {
     "data": {
      "image/png": "[encoded data removed]",
      "text/plain": [
       "<Figure size 648x360 with 1 Axes>"
      ]
     },
     "metadata": {
      "needs_background": "light"
     },
     "output_type": "display_data"
    }
   ],
   "source": [
    "fig,ax = plt.subplots(1,1,figsize=(9,5)) # prepare fig to plot mean and median values\n",
    "# use a pivot table to aggregate trip_speed by hour\n",
    "table1 = ndf.pivot_table(index='take_off_hours', values='trip_speed',aggfunc=('mean','median')).reset_index()\n",
    "\n",
    "# rename columns\n",
    "table1.columns = ['Hour','Mean_speed','Median_speed']\n",
    "table1[['Mean_speed','Median_speed']].plot(ax=ax)\n",
    "plt.ylabel('speed  (miles/min)')\n",
    "plt.xlabel('Hours')\n",
    "plt.title('Relationship of trip speed and take off hour')\n",
    "plt.xlim([0,23])"
   ]
  },
  {
   "cell_type": "code",
   "execution_count": 28,
   "metadata": {},
   "outputs": [
    {
     "data": {
      "text/plain": [
       "(0, 23)"
      ]
     },
     "execution_count": 28,
     "metadata": {},
     "output_type": "execute_result"
    },
    {
     "data": {
      "image/png": "[encoded data removed]",
      "text/plain": [
       "<Figure size 648x360 with 1 Axes>"
      ]
     },
     "metadata": {
      "needs_background": "light"
     },
     "output_type": "display_data"
    }
   ],
   "source": [
    "fig,ax = plt.subplots(1,1,figsize=(9,5)) # prepare fig to plot mean and median values\n",
    "# use a pivot table to aggregate delay by hour\n",
    "table1 = ndf.pivot_table(index='take_off_hours', values='ARRIVAL_DELAY',aggfunc=('mean','median')).reset_index()\n",
    "\n",
    "# rename columns\n",
    "table1.columns = ['Hour','Mean_delay','Median_delay']\n",
    "table1[['Mean_delay','Median_delay']].plot(ax=ax)\n",
    "plt.ylabel('Arrival delay')\n",
    "plt.xlabel('Hours')\n",
    "plt.title('Relationship between arrival delay and take off hour')\n",
    "plt.xlim([0,23])"
   ]
  },
  {
   "cell_type": "code",
   "execution_count": 29,
   "metadata": {},
   "outputs": [
    {
     "data": {
      "text/plain": [
       "Text(0, 0.5, 'Mean value')"
      ]
     },
     "execution_count": 29,
     "metadata": {},
     "output_type": "execute_result"
    },
    {
     "data": {
      "image/png": "[encoded data removed]",
      "text/plain": [
       "<Figure size 432x288 with 1 Axes>"
      ]
     },
     "metadata": {
      "needs_background": "light"
     },
     "output_type": "display_data"
    }
   ],
   "source": [
    "# Does the delay of flight  have anything to do with the day of the week\n",
    "s2 = po.groupby('DAY_OF_WEEK').mean().ARRIVAL_DELAY  \n",
    "labels=s2.index\n",
    "plt.bar(x = labels, height = s2)\n",
    "plt.title(\"Bar chart of average delay time of day of week\",fontsize=15)     \n",
    "plt.xlabel(\"Day of week\",fontsize=12)\n",
    "plt.ylabel(\"Mean value\",fontsize=12)"
   ]
  },
  {
   "cell_type": "code",
   "execution_count": 30,
   "metadata": {},
   "outputs": [
    {
     "data": {
      "text/plain": [
       "Text(0, 0.5, 'Mean value')"
      ]
     },
     "execution_count": 30,
     "metadata": {},
     "output_type": "execute_result"
    },
    {
     "data": {
      "image/png": "[encoded data removed]",
      "text/plain": [
       "<Figure size 432x288 with 1 Axes>"
      ]
     },
     "metadata": {
      "needs_background": "light"
     },
     "output_type": "display_data"
    }
   ],
   "source": [
    "# Does the early arrival of flights have anything to do with the day of the week\n",
    "s2 = abs(ne.groupby('DAY_OF_WEEK').mean().ARRIVAL_DELAY)  \n",
    "labels=s2.index\n",
    "plt.bar(x = labels, height = s2)\n",
    "plt.title(\"Bar chart of early arrival time of day of week\",fontsize=15)     \n",
    "plt.xlabel(\"Day of week\",fontsize=12)\n",
    "plt.ylabel(\"Mean value\",fontsize=12)"
   ]
  },
  {
   "cell_type": "code",
   "execution_count": 11,
   "metadata": {},
   "outputs": [
    {
     "data": {
      "text/plain": [
       "<seaborn.axisgrid.PairGrid at 0x7fb649963af0>"
      ]
     },
     "execution_count": 11,
     "metadata": {},
     "output_type": "execute_result"
    },
    {
     "data": {
      "image/png": "[encoded data removed]",
      "text/plain": [
       "<Figure size 720x720 with 20 Axes>"
      ]
     },
     "metadata": {
      "needs_background": "light"
     },
     "output_type": "display_data"
    }
   ],
   "source": [
    "d2 = ndf.loc[:,['ARRIVAL_DELAY','TAXI_OUT','TAXI_IN','DEPARTURE_DELAY']].copy()\n",
    "df2 = d2.sample(n=5000,random_state=59,axis=0)\n",
    "sns.pairplot(df2)"
   ]
  },
  {
   "cell_type": "code",
   "execution_count": 32,
   "metadata": {},
   "outputs": [
    {
     "data": {
      "text/plain": [
       "Text(0, 0.5, 'Number of records')"
      ]
     },
     "execution_count": 32,
     "metadata": {},
     "output_type": "execute_result"
    },
    {
     "data": {
      "image/png": "[encoded data removed]",
      "text/plain": [
       "<Figure size 432x288 with 1 Axes>"
      ]
     },
     "metadata": {
      "needs_background": "light"
     },
     "output_type": "display_data"
    }
   ],
   "source": [
    "plt.hist(po['TAXI_OUT'],bins =40)\n",
    "plt.title(\"Histograpm of taxi out (delay flight)\",fontsize=15)    \n",
    "                                                                     \n",
    "plt.xlabel('TAXI_OUT',fontsize=12)\n",
    "plt.ylabel(\"Number of records\",fontsize=12)"
   ]
  },
  {
   "cell_type": "code",
   "execution_count": 33,
   "metadata": {},
   "outputs": [
    {
     "data": {
      "text/plain": [
       "Text(0, 0.5, 'Number of records')"
      ]
     },
     "execution_count": 33,
     "metadata": {},
     "output_type": "execute_result"
    },
    {
     "data": {
      "image/png": "[encoded data removed]",
      "text/plain": [
       "<Figure size 432x288 with 1 Axes>"
      ]
     },
     "metadata": {
      "needs_background": "light"
     },
     "output_type": "display_data"
    }
   ],
   "source": [
    "plt.hist(ne['TAXI_OUT'],bins =40)\n",
    "plt.title(\"Histograpm of taxi out (early arrival flight)\",fontsize=15)    \n",
    "                                                                     \n",
    "plt.xlabel('TAXI_OUT',fontsize=12)\n",
    "plt.ylabel(\"Number of records\",fontsize=12)"
   ]
  },
  {
   "cell_type": "markdown",
   "metadata": {},
   "source": [
    "## Exploratory data analysis (WN airline)"
   ]
  },
  {
   "cell_type": "code",
   "execution_count": 12,
   "metadata": {},
   "outputs": [],
   "source": [
    "r = list(ndf[ndf['AIRLINE'] !='WN'].index) \n",
    "ndf1 = ndf.drop(index = r).copy()"
   ]
  },
  {
   "cell_type": "code",
   "execution_count": 12,
   "metadata": {},
   "outputs": [
    {
     "data": {
      "text/html": [
       "<div>\n",
       "<style scoped>\n",
       "    .dataframe tbody tr th:only-of-type {\n",
       "        vertical-align: middle;\n",
       "    }\n",
       "\n",
       "    .dataframe tbody tr th {\n",
       "        vertical-align: top;\n",
       "    }\n",
       "\n",
       "    .dataframe thead th {\n",
       "        text-align: right;\n",
       "    }\n",
       "</style>\n",
       "<table border=\"1\" class=\"dataframe\">\n",
       "  <thead>\n",
       "    <tr style=\"text-align: right;\">\n",
       "      <th></th>\n",
       "      <th>YEAR</th>\n",
       "      <th>MONTH</th>\n",
       "      <th>DAY</th>\n",
       "      <th>DAY_OF_WEEK</th>\n",
       "      <th>AIRLINE</th>\n",
       "      <th>ORIGIN_AIRPORT</th>\n",
       "      <th>DESTINATION_AIRPORT</th>\n",
       "      <th>SCHEDULED_DEPARTURE</th>\n",
       "      <th>DEPARTURE_TIME</th>\n",
       "      <th>DEPARTURE_DELAY</th>\n",
       "      <th>...</th>\n",
       "      <th>AIR_TIME</th>\n",
       "      <th>DISTANCE</th>\n",
       "      <th>WHEELS_ON</th>\n",
       "      <th>TAXI_IN</th>\n",
       "      <th>SCHEDULED_ARRIVAL</th>\n",
       "      <th>ARRIVAL_TIME</th>\n",
       "      <th>ARRIVAL_DELAY</th>\n",
       "      <th>trip_speed</th>\n",
       "      <th>take_off_hours</th>\n",
       "      <th>delay</th>\n",
       "    </tr>\n",
       "  </thead>\n",
       "  <tbody>\n",
       "    <tr>\n",
       "      <th>155</th>\n",
       "      <td>2015</td>\n",
       "      <td>1</td>\n",
       "      <td>1</td>\n",
       "      <td>4</td>\n",
       "      <td>WN</td>\n",
       "      <td>SFO</td>\n",
       "      <td>DEN</td>\n",
       "      <td>555</td>\n",
       "      <td>553.0</td>\n",
       "      <td>-2.0</td>\n",
       "      <td>...</td>\n",
       "      <td>132.0</td>\n",
       "      <td>967</td>\n",
       "      <td>916.0</td>\n",
       "      <td>7.0</td>\n",
       "      <td>925</td>\n",
       "      <td>923.0</td>\n",
       "      <td>-2.0</td>\n",
       "      <td>7.325758</td>\n",
       "      <td>6</td>\n",
       "      <td>0</td>\n",
       "    </tr>\n",
       "    <tr>\n",
       "      <th>184</th>\n",
       "      <td>2015</td>\n",
       "      <td>1</td>\n",
       "      <td>1</td>\n",
       "      <td>4</td>\n",
       "      <td>WN</td>\n",
       "      <td>BOS</td>\n",
       "      <td>BWI</td>\n",
       "      <td>600</td>\n",
       "      <td>556.0</td>\n",
       "      <td>-4.0</td>\n",
       "      <td>...</td>\n",
       "      <td>63.0</td>\n",
       "      <td>369</td>\n",
       "      <td>716.0</td>\n",
       "      <td>3.0</td>\n",
       "      <td>745</td>\n",
       "      <td>719.0</td>\n",
       "      <td>-26.0</td>\n",
       "      <td>5.857143</td>\n",
       "      <td>6</td>\n",
       "      <td>0</td>\n",
       "    </tr>\n",
       "    <tr>\n",
       "      <th>185</th>\n",
       "      <td>2015</td>\n",
       "      <td>1</td>\n",
       "      <td>1</td>\n",
       "      <td>4</td>\n",
       "      <td>WN</td>\n",
       "      <td>LAS</td>\n",
       "      <td>BWI</td>\n",
       "      <td>600</td>\n",
       "      <td>602.0</td>\n",
       "      <td>2.0</td>\n",
       "      <td>...</td>\n",
       "      <td>230.0</td>\n",
       "      <td>2106</td>\n",
       "      <td>1302.0</td>\n",
       "      <td>3.0</td>\n",
       "      <td>1330</td>\n",
       "      <td>1305.0</td>\n",
       "      <td>-25.0</td>\n",
       "      <td>9.156522</td>\n",
       "      <td>6</td>\n",
       "      <td>0</td>\n",
       "    </tr>\n",
       "    <tr>\n",
       "      <th>186</th>\n",
       "      <td>2015</td>\n",
       "      <td>1</td>\n",
       "      <td>1</td>\n",
       "      <td>4</td>\n",
       "      <td>WN</td>\n",
       "      <td>ABQ</td>\n",
       "      <td>HOU</td>\n",
       "      <td>600</td>\n",
       "      <td>607.0</td>\n",
       "      <td>7.0</td>\n",
       "      <td>...</td>\n",
       "      <td>103.0</td>\n",
       "      <td>759</td>\n",
       "      <td>919.0</td>\n",
       "      <td>3.0</td>\n",
       "      <td>900</td>\n",
       "      <td>922.0</td>\n",
       "      <td>22.0</td>\n",
       "      <td>7.368932</td>\n",
       "      <td>6</td>\n",
       "      <td>1</td>\n",
       "    </tr>\n",
       "    <tr>\n",
       "      <th>187</th>\n",
       "      <td>2015</td>\n",
       "      <td>1</td>\n",
       "      <td>1</td>\n",
       "      <td>4</td>\n",
       "      <td>WN</td>\n",
       "      <td>PHX</td>\n",
       "      <td>SLC</td>\n",
       "      <td>600</td>\n",
       "      <td>601.0</td>\n",
       "      <td>1.0</td>\n",
       "      <td>...</td>\n",
       "      <td>76.0</td>\n",
       "      <td>507</td>\n",
       "      <td>726.0</td>\n",
       "      <td>3.0</td>\n",
       "      <td>735</td>\n",
       "      <td>729.0</td>\n",
       "      <td>-6.0</td>\n",
       "      <td>6.671053</td>\n",
       "      <td>6</td>\n",
       "      <td>0</td>\n",
       "    </tr>\n",
       "    <tr>\n",
       "      <th>...</th>\n",
       "      <td>...</td>\n",
       "      <td>...</td>\n",
       "      <td>...</td>\n",
       "      <td>...</td>\n",
       "      <td>...</td>\n",
       "      <td>...</td>\n",
       "      <td>...</td>\n",
       "      <td>...</td>\n",
       "      <td>...</td>\n",
       "      <td>...</td>\n",
       "      <td>...</td>\n",
       "      <td>...</td>\n",
       "      <td>...</td>\n",
       "      <td>...</td>\n",
       "      <td>...</td>\n",
       "      <td>...</td>\n",
       "      <td>...</td>\n",
       "      <td>...</td>\n",
       "      <td>...</td>\n",
       "      <td>...</td>\n",
       "      <td>...</td>\n",
       "    </tr>\n",
       "    <tr>\n",
       "      <th>5818908</th>\n",
       "      <td>2015</td>\n",
       "      <td>12</td>\n",
       "      <td>31</td>\n",
       "      <td>4</td>\n",
       "      <td>WN</td>\n",
       "      <td>ATL</td>\n",
       "      <td>OKC</td>\n",
       "      <td>2240</td>\n",
       "      <td>2246.0</td>\n",
       "      <td>6.0</td>\n",
       "      <td>...</td>\n",
       "      <td>119.0</td>\n",
       "      <td>761</td>\n",
       "      <td>2354.0</td>\n",
       "      <td>4.0</td>\n",
       "      <td>5</td>\n",
       "      <td>2358.0</td>\n",
       "      <td>-7.0</td>\n",
       "      <td>6.394958</td>\n",
       "      <td>22</td>\n",
       "      <td>0</td>\n",
       "    </tr>\n",
       "    <tr>\n",
       "      <th>5818909</th>\n",
       "      <td>2015</td>\n",
       "      <td>12</td>\n",
       "      <td>31</td>\n",
       "      <td>4</td>\n",
       "      <td>WN</td>\n",
       "      <td>ATL</td>\n",
       "      <td>RIC</td>\n",
       "      <td>2240</td>\n",
       "      <td>2239.0</td>\n",
       "      <td>-1.0</td>\n",
       "      <td>...</td>\n",
       "      <td>62.0</td>\n",
       "      <td>481</td>\n",
       "      <td>5.0</td>\n",
       "      <td>5.0</td>\n",
       "      <td>10</td>\n",
       "      <td>10.0</td>\n",
       "      <td>0.0</td>\n",
       "      <td>7.758065</td>\n",
       "      <td>23</td>\n",
       "      <td>0</td>\n",
       "    </tr>\n",
       "    <tr>\n",
       "      <th>5818927</th>\n",
       "      <td>2015</td>\n",
       "      <td>12</td>\n",
       "      <td>31</td>\n",
       "      <td>4</td>\n",
       "      <td>WN</td>\n",
       "      <td>ATL</td>\n",
       "      <td>CAK</td>\n",
       "      <td>2245</td>\n",
       "      <td>2240.0</td>\n",
       "      <td>-5.0</td>\n",
       "      <td>...</td>\n",
       "      <td>73.0</td>\n",
       "      <td>528</td>\n",
       "      <td>5.0</td>\n",
       "      <td>7.0</td>\n",
       "      <td>25</td>\n",
       "      <td>12.0</td>\n",
       "      <td>-13.0</td>\n",
       "      <td>7.232877</td>\n",
       "      <td>22</td>\n",
       "      <td>0</td>\n",
       "    </tr>\n",
       "    <tr>\n",
       "      <th>5818928</th>\n",
       "      <td>2015</td>\n",
       "      <td>12</td>\n",
       "      <td>31</td>\n",
       "      <td>4</td>\n",
       "      <td>WN</td>\n",
       "      <td>ATL</td>\n",
       "      <td>PHL</td>\n",
       "      <td>2245</td>\n",
       "      <td>2243.0</td>\n",
       "      <td>-2.0</td>\n",
       "      <td>...</td>\n",
       "      <td>82.0</td>\n",
       "      <td>666</td>\n",
       "      <td>15.0</td>\n",
       "      <td>5.0</td>\n",
       "      <td>45</td>\n",
       "      <td>20.0</td>\n",
       "      <td>-25.0</td>\n",
       "      <td>8.121951</td>\n",
       "      <td>22</td>\n",
       "      <td>0</td>\n",
       "    </tr>\n",
       "    <tr>\n",
       "      <th>5818950</th>\n",
       "      <td>2015</td>\n",
       "      <td>12</td>\n",
       "      <td>31</td>\n",
       "      <td>4</td>\n",
       "      <td>WN</td>\n",
       "      <td>ATL</td>\n",
       "      <td>IND</td>\n",
       "      <td>2255</td>\n",
       "      <td>2252.0</td>\n",
       "      <td>-3.0</td>\n",
       "      <td>...</td>\n",
       "      <td>63.0</td>\n",
       "      <td>432</td>\n",
       "      <td>5.0</td>\n",
       "      <td>6.0</td>\n",
       "      <td>25</td>\n",
       "      <td>11.0</td>\n",
       "      <td>-14.0</td>\n",
       "      <td>6.857143</td>\n",
       "      <td>23</td>\n",
       "      <td>0</td>\n",
       "    </tr>\n",
       "  </tbody>\n",
       "</table>\n",
       "<p>1203487 rows × 24 columns</p>\n",
       "</div>"
      ],
      "text/plain": [
       "         YEAR  MONTH  DAY  DAY_OF_WEEK AIRLINE ORIGIN_AIRPORT  \\\n",
       "155      2015      1    1            4      WN            SFO   \n",
       "184      2015      1    1            4      WN            BOS   \n",
       "185      2015      1    1            4      WN            LAS   \n",
       "186      2015      1    1            4      WN            ABQ   \n",
       "187      2015      1    1            4      WN            PHX   \n",
       "...       ...    ...  ...          ...     ...            ...   \n",
       "5818908  2015     12   31            4      WN            ATL   \n",
       "5818909  2015     12   31            4      WN            ATL   \n",
       "5818927  2015     12   31            4      WN            ATL   \n",
       "5818928  2015     12   31            4      WN            ATL   \n",
       "5818950  2015     12   31            4      WN            ATL   \n",
       "\n",
       "        DESTINATION_AIRPORT  SCHEDULED_DEPARTURE  DEPARTURE_TIME  \\\n",
       "155                     DEN                  555           553.0   \n",
       "184                     BWI                  600           556.0   \n",
       "185                     BWI                  600           602.0   \n",
       "186                     HOU                  600           607.0   \n",
       "187                     SLC                  600           601.0   \n",
       "...                     ...                  ...             ...   \n",
       "5818908                 OKC                 2240          2246.0   \n",
       "5818909                 RIC                 2240          2239.0   \n",
       "5818927                 CAK                 2245          2240.0   \n",
       "5818928                 PHL                 2245          2243.0   \n",
       "5818950                 IND                 2255          2252.0   \n",
       "\n",
       "         DEPARTURE_DELAY  ...  AIR_TIME  DISTANCE  WHEELS_ON  TAXI_IN  \\\n",
       "155                 -2.0  ...     132.0       967      916.0      7.0   \n",
       "184                 -4.0  ...      63.0       369      716.0      3.0   \n",
       "185                  2.0  ...     230.0      2106     1302.0      3.0   \n",
       "186                  7.0  ...     103.0       759      919.0      3.0   \n",
       "187                  1.0  ...      76.0       507      726.0      3.0   \n",
       "...                  ...  ...       ...       ...        ...      ...   \n",
       "5818908              6.0  ...     119.0       761     2354.0      4.0   \n",
       "5818909             -1.0  ...      62.0       481        5.0      5.0   \n",
       "5818927             -5.0  ...      73.0       528        5.0      7.0   \n",
       "5818928             -2.0  ...      82.0       666       15.0      5.0   \n",
       "5818950             -3.0  ...      63.0       432        5.0      6.0   \n",
       "\n",
       "         SCHEDULED_ARRIVAL  ARRIVAL_TIME  ARRIVAL_DELAY  trip_speed  \\\n",
       "155                    925         923.0           -2.0    7.325758   \n",
       "184                    745         719.0          -26.0    5.857143   \n",
       "185                   1330        1305.0          -25.0    9.156522   \n",
       "186                    900         922.0           22.0    7.368932   \n",
       "187                    735         729.0           -6.0    6.671053   \n",
       "...                    ...           ...            ...         ...   \n",
       "5818908                  5        2358.0           -7.0    6.394958   \n",
       "5818909                 10          10.0            0.0    7.758065   \n",
       "5818927                 25          12.0          -13.0    7.232877   \n",
       "5818928                 45          20.0          -25.0    8.121951   \n",
       "5818950                 25          11.0          -14.0    6.857143   \n",
       "\n",
       "         take_off_hours  delay  \n",
       "155                   6      0  \n",
       "184                   6      0  \n",
       "185                   6      0  \n",
       "186                   6      1  \n",
       "187                   6      0  \n",
       "...                 ...    ...  \n",
       "5818908              22      0  \n",
       "5818909              23      0  \n",
       "5818927              22      0  \n",
       "5818928              22      0  \n",
       "5818950              23      0  \n",
       "\n",
       "[1203487 rows x 24 columns]"
      ]
     },
     "execution_count": 12,
     "metadata": {},
     "output_type": "execute_result"
    }
   ],
   "source": [
    "ndf1"
   ]
  },
  {
   "cell_type": "code",
   "execution_count": 13,
   "metadata": {},
   "outputs": [],
   "source": [
    "po = ndf1[ndf1[\"ARRIVAL_DELAY\"]>0].copy() \n",
    "ne = ndf1[ndf1[\"ARRIVAL_DELAY\"]<0].copy()"
   ]
  },
  {
   "cell_type": "code",
   "execution_count": 37,
   "metadata": {},
   "outputs": [
    {
     "data": {
      "text/plain": [
       "count    432104.000000\n",
       "mean         19.456770\n",
       "std          18.840341\n",
       "min           1.000000\n",
       "25%           5.000000\n",
       "50%          13.000000\n",
       "75%          28.000000\n",
       "max          83.000000\n",
       "Name: ARRIVAL_DELAY, dtype: float64"
      ]
     },
     "execution_count": 37,
     "metadata": {},
     "output_type": "execute_result"
    }
   ],
   "source": [
    "po.describe().ARRIVAL_DELAY    "
   ]
  },
  {
   "cell_type": "code",
   "execution_count": 13,
   "metadata": {},
   "outputs": [],
   "source": [
    "IQR =  28-5\n",
    "big = 1.5*IQR+28"
   ]
  },
  {
   "cell_type": "code",
   "execution_count": 14,
   "metadata": {},
   "outputs": [],
   "source": [
    "r = list(ndf1[ndf1['ARRIVAL_DELAY'] > big].index) \n",
    "ndf1 = ndf1.drop(index = r)"
   ]
  },
  {
   "cell_type": "code",
   "execution_count": 40,
   "metadata": {},
   "outputs": [
    {
     "data": {
      "text/plain": [
       "Text(0, 0.5, 'Number of records')"
      ]
     },
     "execution_count": 40,
     "metadata": {},
     "output_type": "execute_result"
    },
    {
     "data": {
      "image/png": "[encoded data removed]",
      "text/plain": [
       "<Figure size 432x288 with 1 Axes>"
      ]
     },
     "metadata": {
      "needs_background": "light"
     },
     "output_type": "display_data"
    }
   ],
   "source": [
    "# Check the distribution of WN airline\n",
    "# still normal distributed\n",
    "\n",
    "plt.hist(ndf1['trip_speed'],bins =40)\n",
    "plt.title(\"Histograpm of trip speed\",fontsize=15)     \n",
    "                                                      \n",
    "plt.xlabel(\"Trip speed\",fontsize=12)\n",
    "plt.ylabel(\"Number of records\",fontsize=12)"
   ]
  },
  {
   "cell_type": "code",
   "execution_count": 41,
   "metadata": {},
   "outputs": [
    {
     "data": {
      "text/plain": [
       "(0, 23)"
      ]
     },
     "execution_count": 41,
     "metadata": {},
     "output_type": "execute_result"
    },
    {
     "data": {
      "image/png": "[encoded data removed]",
      "text/plain": [
       "<Figure size 648x360 with 1 Axes>"
      ]
     },
     "metadata": {
      "needs_background": "light"
     },
     "output_type": "display_data"
    }
   ],
   "source": [
    "fig,ax = plt.subplots(1,1,figsize=(9,5)) # prepare fig to plot mean and median values\n",
    "# use a pivot table to aggregate trip_speed by hour\n",
    "table1 = ndf1.pivot_table(index='take_off_hours', values='trip_speed',aggfunc=('mean','median')).reset_index()\n",
    "\n",
    "# rename columns\n",
    "table1.columns = ['Hour','Mean_speed','Median_speed']\n",
    "table1[['Mean_speed','Median_speed']].plot(ax=ax)\n",
    "plt.ylabel('speed  (miles/min)')\n",
    "plt.xlabel('Hours')\n",
    "plt.title('Relationship of trip speed and take off hour')\n",
    "plt.xlim([0,23])"
   ]
  },
  {
   "cell_type": "code",
   "execution_count": 42,
   "metadata": {},
   "outputs": [
    {
     "data": {
      "text/plain": [
       "(0, 23)"
      ]
     },
     "execution_count": 42,
     "metadata": {},
     "output_type": "execute_result"
    },
    {
     "data": {
      "image/png": "[encoded data removed]",
      "text/plain": [
       "<Figure size 648x360 with 1 Axes>"
      ]
     },
     "metadata": {
      "needs_background": "light"
     },
     "output_type": "display_data"
    }
   ],
   "source": [
    "fig,ax = plt.subplots(1,1,figsize=(9,5)) # prepare fig to plot mean and median values\n",
    "# use a pivot table to aggregate delay by hour\n",
    "table1 = ndf1.pivot_table(index='take_off_hours', values='ARRIVAL_DELAY',aggfunc=('mean','median')).reset_index()\n",
    "\n",
    "# rename columns\n",
    "table1.columns = ['Hour','Mean_delay','Median_delay']\n",
    "table1[['Mean_delay','Median_delay']].plot(ax=ax)\n",
    "plt.ylabel('Arrival delay')\n",
    "plt.xlabel('Hours')\n",
    "plt.title('Relationship between arrival delay and take off hour')\n",
    "plt.xlim([0,23])"
   ]
  },
  {
   "cell_type": "markdown",
   "metadata": {},
   "source": [
    "## Build model (All airlines)"
   ]
  },
  {
   "cell_type": "code",
   "execution_count": 15,
   "metadata": {},
   "outputs": [],
   "source": [
    "df_all = ndf.sample(n=500000,random_state=59,axis=0)\n",
    "\n",
    "# classification\n",
    "y_all = df_all.delay\n",
    "f_data_all = df_all.loc[:,['SCHEDULED_DEPARTURE','DEPARTURE_TIME','DEPARTURE_DELAY','TAXI_OUT',\n",
    "                           'take_off_hours','TAXI_IN','trip_speed','DISTANCE']].copy()\n",
    "\n",
    "d_train_all,d_test_all,y_train_all,y_test_all = train_test_split(f_data_all,y_all,test_size = 0.3,random_state = 59)"
   ]
  },
  {
   "cell_type": "markdown",
   "metadata": {},
   "source": [
    "### GNB"
   ]
  },
  {
   "cell_type": "code",
   "execution_count": 16,
   "metadata": {},
   "outputs": [
    {
     "data": {
      "text/plain": [
       "(0.8388714285714286, 0.8394133333333333)"
      ]
     },
     "execution_count": 16,
     "metadata": {},
     "output_type": "execute_result"
    }
   ],
   "source": [
    "gnb = GNB().fit(d_train_all,y_train_all)\n",
    "gnb.score(d_train_all,y_train_all),gnb.score(d_test_all,y_test_all)"
   ]
  },
  {
   "cell_type": "code",
   "execution_count": 17,
   "metadata": {},
   "outputs": [
    {
     "data": {
      "image/png": "[encoded data removed]",
      "text/plain": [
       "<Figure size 432x288 with 2 Axes>"
      ]
     },
     "metadata": {
      "needs_background": "light"
     },
     "output_type": "display_data"
    }
   ],
   "source": [
    "gnbl = gnb.predict(d_test_all)\n",
    "marix_GNB = confusion_matrix(y_test_all,gnbl)\n",
    "\n",
    "normed_matrix = normalize(marix_GNB, axis=1, norm='l1') # normalize the matrix\n",
    "sns.heatmap(normed_matrix, annot = True,xticklabels = ['0','1'],yticklabels = ['0','1'],cmap = 'BuPu')\n",
    "plt.xlabel('Prediction classes')\n",
    "plt.ylabel('Actual classes')\n",
    "b,t = plt.ylim()       # change the height of top and bottom \n",
    "b = b+0.5 \n",
    "t = t-0.5\n",
    "plt.ylim(b,t)\n",
    "plt.show()  "
   ]
  },
  {
   "cell_type": "markdown",
   "metadata": {},
   "source": [
    "### SVM"
   ]
  },
  {
   "cell_type": "code",
   "execution_count": 62,
   "metadata": {},
   "outputs": [
    {
     "name": "stdout",
     "output_type": "stream",
     "text": [
      "              precision    recall  f1-score   support\n",
      "\n",
      "           0       0.84      0.96      0.89     98741\n",
      "           1       0.89      0.65      0.75     51259\n",
      "\n",
      "    accuracy                           0.85    150000\n",
      "   macro avg       0.86      0.80      0.82    150000\n",
      "weighted avg       0.86      0.85      0.84    150000\n",
      "\n"
     ]
    }
   ],
   "source": [
    "svc = LinearSVC(random_state=24).fit(d_train_all,y_train_all)\n",
    "cvscore(svc,d_train_all,y_train_all,cv = 5).mean(),svc.score(d_test_all,y_test_all)\n",
    "\n",
    "svc1 = svc.predict(d_test_all)\n",
    "print(classification_report(y_test_all,svc1))\n",
    "\n"
   ]
  },
  {
   "cell_type": "code",
   "execution_count": 75,
   "metadata": {},
   "outputs": [
    {
     "data": {
      "text/plain": [
       "(0.8504428571428572, 0.8512333333333333)"
      ]
     },
     "execution_count": 75,
     "metadata": {},
     "output_type": "execute_result"
    }
   ],
   "source": [
    "svc.score(d_train_all,y_train_all),svc.score(d_test_all,y_test_all)"
   ]
  },
  {
   "cell_type": "code",
   "execution_count": 76,
   "metadata": {},
   "outputs": [
    {
     "data": {
      "image/png": "[encoded data removed]",
      "text/plain": [
       "<Figure size 432x288 with 2 Axes>"
      ]
     },
     "metadata": {
      "needs_background": "light"
     },
     "output_type": "display_data"
    }
   ],
   "source": [
    "marix_svc = confusion_matrix(y_test_all,svc1)\n",
    "\n",
    "normed_matrix = normalize(marix_svc, axis=1, norm='l1') # normalize the matrix\n",
    "sns.heatmap(normed_matrix, annot = True,xticklabels = ['0','1'],yticklabels = ['0','1'],cmap = 'BuPu')\n",
    "plt.xlabel('Prediction classes')\n",
    "plt.ylabel('Actual classes')\n",
    "b,t = plt.ylim()       # change the height of top and bottom \n",
    "b = b+0.5 \n",
    "t = t-0.5\n",
    "plt.ylim(b,t)\n",
    "plt.show()  "
   ]
  },
  {
   "cell_type": "code",
   "execution_count": null,
   "metadata": {},
   "outputs": [],
   "source": []
  },
  {
   "cell_type": "markdown",
   "metadata": {},
   "source": [
    "### Linear model（predicting how long was the arrival delay)"
   ]
  },
  {
   "cell_type": "code",
   "execution_count": 68,
   "metadata": {},
   "outputs": [],
   "source": [
    "dfL_all = df_all.loc[:,['SCHEDULED_DEPARTURE','DEPARTURE_TIME','DEPARTURE_DELAY','TAXI_OUT','DISTANCE',\n",
    "                'TAXI_IN','trip_speed','take_off_hours']].copy()\n",
    "\n",
    "yL_all = df_all.ARRIVAL_DELAY\n",
    "\n",
    "dL_train_all,dL_test_all,yL_train_all,yL_test_all = train_test_split(dfL_all,yL_all,\n",
    "                                                                     test_size = 0.3,random_state = 62)\n"
   ]
  },
  {
   "cell_type": "markdown",
   "metadata": {},
   "source": [
    "## R check model assumptions "
   ]
  },
  {
   "cell_type": "code",
   "execution_count": 69,
   "metadata": {},
   "outputs": [
    {
     "name": "stdout",
     "output_type": "stream",
     "text": [
      "LinearRegression()\n",
      "\n",
      "Linear Regression Performance Metrics testing\n",
      "R^2= 0.7899928617461238\n",
      "MAE: 6.947897606336824\n",
      "MSE: 83.91563430945823\n",
      "RMSE: 9.160547707940733\n",
      "\n",
      "Linear Regression Performance Metrics training\n",
      "R^2= 0.79165473574936\n",
      "MAE: 6.927240262006633\n",
      "MSE: 83.38815908482779\n",
      "RMSE: 9.131711728084051\n"
     ]
    }
   ],
   "source": [
    "from sklearn.linear_model import LinearRegression\n",
    "\n",
    "lreg = LinearRegression()\n",
    "lreg.fit(dL_train_all,yL_train_all)\n",
    "print(lreg)\n",
    "\n",
    "y_pred_lreg = lreg.predict(dL_test_all)\n",
    "y_train_lreg = lreg.predict(dL_train_all)\n",
    "\n",
    "# Score It\n",
    "from sklearn import metrics\n",
    "print('\\nLinear Regression Performance Metrics testing')\n",
    "print('R^2=',metrics.explained_variance_score(yL_test_all,y_pred_lreg))\n",
    "print('MAE:',metrics.mean_absolute_error(yL_test_all,y_pred_lreg))\n",
    "print('MSE:',metrics.mean_squared_error(yL_test_all,y_pred_lreg))\n",
    "print('RMSE:',np.sqrt(metrics.mean_squared_error(yL_test_all,y_pred_lreg)))\n",
    "\n",
    "# Score It\n",
    "from sklearn import metrics\n",
    "print('\\nLinear Regression Performance Metrics training')\n",
    "print('R^2=',metrics.explained_variance_score(yL_train_all,y_train_lreg))\n",
    "print('MAE:',metrics.mean_absolute_error(yL_train_all,y_train_lreg))\n",
    "print('MSE:',metrics.mean_squared_error(yL_train_all,y_train_lreg))\n",
    "print('RMSE:',np.sqrt(metrics.mean_squared_error(yL_train_all,y_train_lreg)))"
   ]
  },
  {
   "cell_type": "code",
   "execution_count": null,
   "metadata": {},
   "outputs": [],
   "source": []
  },
  {
   "cell_type": "markdown",
   "metadata": {},
   "source": [
    "## R do the stepwise selection "
   ]
  },
  {
   "cell_type": "code",
   "execution_count": 71,
   "metadata": {},
   "outputs": [
    {
     "name": "stdout",
     "output_type": "stream",
     "text": [
      "LinearRegression()\n",
      "\n",
      "Linear Regression Performance Metrics testing\n",
      "R^2= 0.789994105318814\n",
      "MAE: 6.947759999778298\n",
      "MSE: 83.91513720844404\n",
      "RMSE: 9.160520575188073\n",
      "\n",
      "Linear Regression Performance Metrics training\n",
      "R^2= 0.7916546439341754\n",
      "MAE: 6.927130192663828\n",
      "MSE: 83.38819583295952\n",
      "RMSE: 9.131713740200112\n"
     ]
    },
    {
     "data": {
      "image/png": "[encoded data removed]",
      "text/plain": [
       "<Figure size 432x288 with 1 Axes>"
      ]
     },
     "metadata": {
      "needs_background": "light"
     },
     "output_type": "display_data"
    },
    {
     "data": {
      "text/html": [
       "<div>\n",
       "<style scoped>\n",
       "    .dataframe tbody tr th:only-of-type {\n",
       "        vertical-align: middle;\n",
       "    }\n",
       "\n",
       "    .dataframe tbody tr th {\n",
       "        vertical-align: top;\n",
       "    }\n",
       "\n",
       "    .dataframe thead th {\n",
       "        text-align: right;\n",
       "    }\n",
       "</style>\n",
       "<table border=\"1\" class=\"dataframe\">\n",
       "  <thead>\n",
       "    <tr style=\"text-align: right;\">\n",
       "      <th></th>\n",
       "      <th>Features</th>\n",
       "      <th>Standard Coefficient</th>\n",
       "    </tr>\n",
       "  </thead>\n",
       "  <tbody>\n",
       "    <tr>\n",
       "      <th>0</th>\n",
       "      <td>SCHEDULED_DEPARTURE</td>\n",
       "      <td>0.000949</td>\n",
       "    </tr>\n",
       "    <tr>\n",
       "      <th>1</th>\n",
       "      <td>DEPARTURE_TIME</td>\n",
       "      <td>0.000758</td>\n",
       "    </tr>\n",
       "    <tr>\n",
       "      <th>2</th>\n",
       "      <td>DEPARTURE_DELAY</td>\n",
       "      <td>0.973791</td>\n",
       "    </tr>\n",
       "    <tr>\n",
       "      <th>3</th>\n",
       "      <td>TAXI_OUT</td>\n",
       "      <td>0.705978</td>\n",
       "    </tr>\n",
       "    <tr>\n",
       "      <th>4</th>\n",
       "      <td>TAXI_IN</td>\n",
       "      <td>0.680340</td>\n",
       "    </tr>\n",
       "    <tr>\n",
       "      <th>5</th>\n",
       "      <td>trip_speed</td>\n",
       "      <td>-3.249877</td>\n",
       "    </tr>\n",
       "    <tr>\n",
       "      <th>6</th>\n",
       "      <td>take_off_hours</td>\n",
       "      <td>-0.160632</td>\n",
       "    </tr>\n",
       "  </tbody>\n",
       "</table>\n",
       "</div>"
      ],
      "text/plain": [
       "              Features  Standard Coefficient\n",
       "0  SCHEDULED_DEPARTURE              0.000949\n",
       "1       DEPARTURE_TIME              0.000758\n",
       "2      DEPARTURE_DELAY              0.973791\n",
       "3             TAXI_OUT              0.705978\n",
       "4              TAXI_IN              0.680340\n",
       "5           trip_speed             -3.249877\n",
       "6       take_off_hours             -0.160632"
      ]
     },
     "execution_count": 71,
     "metadata": {},
     "output_type": "execute_result"
    }
   ],
   "source": [
    "dfL_all2 = df_all.loc[:,['SCHEDULED_DEPARTURE','DEPARTURE_TIME','DEPARTURE_DELAY','TAXI_OUT',\n",
    "                'TAXI_IN','trip_speed','take_off_hours']].copy()\n",
    "\n",
    "#yL_all = df_all.ARRIVAL_DELAY\n",
    "\n",
    "dL_train_all2,dL_test_all2,yL_train_all2,yL_test_all2 = train_test_split(dfL_all2,yL_all,\n",
    "                                                                     test_size = 0.3,random_state = 62)\n",
    "\n",
    "\n",
    "lreg = LinearRegression()\n",
    "lreg.fit(dL_train_all2,yL_train_all2)\n",
    "print(lreg)\n",
    "\n",
    "y_pred_lreg = lreg.predict(dL_test_all2)\n",
    "y_train_lreg = lreg.predict(dL_train_all2)\n",
    "\n",
    "# Score It\n",
    "from sklearn import metrics\n",
    "print('\\nLinear Regression Performance Metrics testing')\n",
    "print('R^2=',metrics.explained_variance_score(yL_test_all2,y_pred_lreg))\n",
    "print('MAE:',metrics.mean_absolute_error(yL_test_all2,y_pred_lreg))\n",
    "print('MSE:',metrics.mean_squared_error(yL_test_all2,y_pred_lreg))\n",
    "print('RMSE:',np.sqrt(metrics.mean_squared_error(yL_test_all2,y_pred_lreg)))\n",
    "\n",
    "# Score It\n",
    "from sklearn import metrics\n",
    "print('\\nLinear Regression Performance Metrics training')\n",
    "print('R^2=',metrics.explained_variance_score(yL_train_all2,y_train_lreg))\n",
    "print('MAE:',metrics.mean_absolute_error(yL_train_all2,y_train_lreg))\n",
    "print('MSE:',metrics.mean_squared_error(yL_train_all2,y_train_lreg))\n",
    "print('RMSE:',np.sqrt(metrics.mean_squared_error(yL_train_all2,y_train_lreg)))\n",
    "\n",
    "\n",
    "\n",
    "# feature importance \n",
    "\n",
    "import scipy.stats as stats\n",
    "import statsmodels.api as sm\n",
    "\n",
    "cols = list(dfL_all2.columns)\n",
    "pmax = 1\n",
    "while (len(cols)>0):\n",
    "    p= []\n",
    "    X_1 = dfL_all2[cols]\n",
    "    X_1 = sm.add_constant(X_1)\n",
    "    model = sm.OLS(yL_all,X_1).fit()\n",
    "    p = pd.Series(model.pvalues.values[1:],index = cols)      \n",
    "    pmax = max(p)\n",
    "    feature_with_p_max = p.idxmax()\n",
    "    if(pmax>0.05):\n",
    "        cols.remove(feature_with_p_max)\n",
    "    else:\n",
    "        break\n",
    "selected_features_BE = cols\n",
    "#print('selected features after stepwise selection: ',selected_features_BE)\n",
    "\n",
    "\n",
    "\n",
    "# Standard Coefficient plot\n",
    "\n",
    "coef_dict_baseline = {}\n",
    "for coef, feat in zip(lreg.coef_,dfL_all2.columns):\n",
    "    coef_dict_baseline[feat] = coef\n",
    "\n",
    "\n",
    "\n",
    "names = list(coef_dict_baseline.keys())\n",
    "values = list(coef_dict_baseline.values())\n",
    "\n",
    "#tick_label does the some work as plt.xticks()\n",
    "plt.barh(range(len(coef_dict_baseline)),values,tick_label=names)\n",
    "\n",
    "\n",
    "plt.xlabel('Standard Coefficient')\n",
    "plt.ylabel('features')\n",
    "plt.title('Standard Coefficient magnitudes of Linear Rgression ')\n",
    "plt.show()\n",
    "\n",
    "\n",
    "\n",
    "\n",
    "\n",
    "# Standard Coefficient values\n",
    "sd_coef = pd.DataFrame()\n",
    "name = list(coef_dict_baseline.keys())\n",
    "values = list(coef_dict_baseline.values())\n",
    "sd_coef['Features'] = name\n",
    "sd_coef['Standard Coefficient'] = values\n",
    "sd_coef"
   ]
  },
  {
   "cell_type": "markdown",
   "metadata": {},
   "source": [
    "## drop insignicant features"
   ]
  },
  {
   "cell_type": "code",
   "execution_count": 72,
   "metadata": {},
   "outputs": [
    {
     "name": "stdout",
     "output_type": "stream",
     "text": [
      "LinearRegression()\n",
      "\n",
      "Linear Regression Performance Metrics testing\n",
      "R^2= 0.7898417992072815\n",
      "MAE: 6.94964256137041\n",
      "MSE: 83.97597858245004\n",
      "RMSE: 9.16384082044478\n",
      "\n",
      "Linear Regression Performance Metrics training\n",
      "R^2= 0.7915561267670121\n",
      "MAE: 6.928386736112881\n",
      "MSE: 83.4276263678341\n",
      "RMSE: 9.133872473810552\n"
     ]
    }
   ],
   "source": [
    "\n",
    "df_all_L2 = df_all.loc[:,['DEPARTURE_DELAY','TAXI_OUT', 'trip_speed',\"take_off_hours\",\n",
    "                          'TAXI_IN']].copy()\n",
    "y_L = df_all.ARRIVAL_DELAY\n",
    "\n",
    "\n",
    "dL_train_all2,dL_test_all2,yL_train_all2,yL_test_all2 = train_test_split(df_all_L2,y_L,\n",
    "                                                                     test_size = 0.3,random_state = 62)\n",
    "\n",
    "\n",
    "\n",
    "# after feature  selection \n",
    "\n",
    "\n",
    "lreg = LinearRegression()\n",
    "lreg.fit(dL_train_all2,yL_train_all2)\n",
    "print(lreg)\n",
    "\n",
    "y_pred_lreg = lreg.predict(dL_test_all2)\n",
    "y_train_lreg = lreg.predict(dL_train_all2)\n",
    "\n",
    "# Score It\n",
    "from sklearn import metrics\n",
    "print('\\nLinear Regression Performance Metrics testing')\n",
    "print('R^2=',metrics.explained_variance_score(yL_test_all2,y_pred_lreg))\n",
    "print('MAE:',metrics.mean_absolute_error(yL_test_all2,y_pred_lreg))\n",
    "print('MSE:',metrics.mean_squared_error(yL_test_all2,y_pred_lreg))\n",
    "print('RMSE:',np.sqrt(metrics.mean_squared_error(yL_test_all2,y_pred_lreg)))\n",
    "\n",
    "# Score It\n",
    "from sklearn import metrics\n",
    "print('\\nLinear Regression Performance Metrics training')\n",
    "print('R^2=',metrics.explained_variance_score(yL_train_all2,y_train_lreg))\n",
    "print('MAE:',metrics.mean_absolute_error(yL_train_all2,y_train_lreg))\n",
    "print('MSE:',metrics.mean_squared_error(yL_train_all2,y_train_lreg))\n",
    "print('RMSE:',np.sqrt(metrics.mean_squared_error(yL_train_all2,y_train_lreg)))\n",
    "\n",
    "\n"
   ]
  },
  {
   "cell_type": "code",
   "execution_count": null,
   "metadata": {},
   "outputs": [],
   "source": []
  },
  {
   "cell_type": "markdown",
   "metadata": {},
   "source": [
    "## Build model (WN and DL airlines)"
   ]
  },
  {
   "cell_type": "markdown",
   "metadata": {},
   "source": [
    "### WN airline"
   ]
  },
  {
   "cell_type": "code",
   "execution_count": 59,
   "metadata": {},
   "outputs": [],
   "source": [
    "# all\n",
    "#df_wn = ndf1.loc[:,['SCHEDULED_DEPARTURE','DEPARTURE_TIME','DEPARTURE_DELAY','TAXI_OUT','DISTANCE',\n",
    "#                 'TAXI_IN','trip_speed','take_off_hours']].copy()\n",
    "#y_wn = ndf1.delay\n",
    "#d_train,d_test,y_train,y_test = train_test_split(df_wn,y_wn,test_size = 0.3,random_state = 42)"
   ]
  },
  {
   "cell_type": "code",
   "execution_count": 18,
   "metadata": {},
   "outputs": [],
   "source": [
    "# part\n",
    "\n",
    "df_wn = ndf1.sample(n=500000,random_state=59,axis=0)\n",
    "y_wn = df_wn.delay\n",
    "f_data2 = df_wn.loc[:,['SCHEDULED_DEPARTURE','DEPARTURE_DELAY','TAXI_OUT','DISTANCE',\n",
    "                    'TAXI_IN','trip_speed','take_off_hours','DEPARTURE_TIME']].copy()\n",
    "\n",
    "d_train2,d_test2,y_train2,y_test2 = train_test_split(f_data2,y_wn,test_size = 0.3,random_state = 42)\n"
   ]
  },
  {
   "cell_type": "markdown",
   "metadata": {},
   "source": [
    "#### GNB"
   ]
  },
  {
   "cell_type": "code",
   "execution_count": 19,
   "metadata": {},
   "outputs": [
    {
     "name": "stdout",
     "output_type": "stream",
     "text": [
      "0.8515542857142857 0.8500666666666666\n"
     ]
    },
    {
     "data": {
      "image/png": "[encoded data removed]",
      "text/plain": [
       "<Figure size 432x288 with 2 Axes>"
      ]
     },
     "metadata": {
      "needs_background": "light"
     },
     "output_type": "display_data"
    },
    {
     "name": "stdout",
     "output_type": "stream",
     "text": [
      "              precision    recall  f1-score   support\n",
      "\n",
      "           0       0.86      0.92      0.89     97569\n",
      "           1       0.83      0.72      0.77     52431\n",
      "\n",
      "    accuracy                           0.85    150000\n",
      "   macro avg       0.84      0.82      0.83    150000\n",
      "weighted avg       0.85      0.85      0.85    150000\n",
      "\n"
     ]
    }
   ],
   "source": [
    "gnb = GNB().fit(d_train2,y_train2)\n",
    "print(gnb.score(d_train2,y_train2),gnb.score(d_test2,y_test2))\n",
    "\n",
    "gnbl = gnb.predict(d_test2)\n",
    "marix_GNB = confusion_matrix(y_test2,gnbl)\n",
    "\n",
    "normed_matrix = normalize(marix_GNB, axis=1, norm='l1') # normalize the matrix\n",
    "sns.heatmap(normed_matrix, annot = True,xticklabels = ['0','1'],yticklabels = ['0','1'],cmap = 'BuPu')\n",
    "plt.xlabel('Prediction classes')\n",
    "plt.ylabel('Actual classes')\n",
    "b,t = plt.ylim()       # change the height of top and bottom \n",
    "b = b+0.5 \n",
    "t = t-0.5\n",
    "\n",
    "plt.ylim(b,t)\n",
    "plt.show()  \n",
    "\n",
    "print(classification_report(y_test2,gnbl))"
   ]
  },
  {
   "cell_type": "markdown",
   "metadata": {},
   "source": [
    "#### SVM"
   ]
  },
  {
   "cell_type": "code",
   "execution_count": 79,
   "metadata": {},
   "outputs": [
    {
     "name": "stdout",
     "output_type": "stream",
     "text": [
      "0.86998 0.8696666666666667\n",
      "              precision    recall  f1-score   support\n",
      "\n",
      "           0       0.87      0.94      0.90     97569\n",
      "           1       0.86      0.74      0.80     52431\n",
      "\n",
      "    accuracy                           0.87    150000\n",
      "   macro avg       0.87      0.84      0.85    150000\n",
      "weighted avg       0.87      0.87      0.87    150000\n",
      "\n"
     ]
    },
    {
     "data": {
      "image/png": "[encoded data removed]",
      "text/plain": [
       "<Figure size 432x288 with 2 Axes>"
      ]
     },
     "metadata": {
      "needs_background": "light"
     },
     "output_type": "display_data"
    }
   ],
   "source": [
    "svc = LinearSVC(random_state=24).fit(d_train2,y_train2)\n",
    "cvscore(svc,d_train2,y_train2,cv = 5).mean(),svc.score(d_test2,y_test2)\n",
    "svc1 = svc.predict(d_test2)\n",
    "print(svc.score(d_train2,y_train2),svc.score(d_test2,y_test2))\n",
    "\n",
    "print(classification_report(y_test2,svc1))\n",
    "\n",
    "marix_svc = confusion_matrix(y_test2,svc1)\n",
    "\n",
    "normed_matrix = normalize(marix_svc, axis=1, norm='l1') # normalize the matrix\n",
    "sns.heatmap(normed_matrix, annot = True,xticklabels = ['0','1'],yticklabels = ['0','1'],cmap = 'BuPu')\n",
    "plt.xlabel('Prediction classes')\n",
    "plt.ylabel('Actual classes')\n",
    "b,t = plt.ylim()     # change the height of top and bottom \n",
    "b = b+0.5 \n",
    "t = t-0.5\n",
    "plt.ylim(b,t)\n",
    "plt.show()"
   ]
  },
  {
   "cell_type": "code",
   "execution_count": null,
   "metadata": {},
   "outputs": [],
   "source": [
    "# plot learning curve\n",
    "\n",
    "train_size = np.linspace(0.1,1,10)\n",
    "\n",
    "train_sizes, learn_train, learn_test = learning_curve(\n",
    "     LinearSVC(), d_train2, y_train2, train_sizes=train_size, cv=5, n_jobs=-1, verbose=10)\n",
    "\n",
    "\n",
    "mean_learn_train = np.mean(learn_train, axis = 1)\n",
    "std_learn_train = np.std(learn_train, axis = 1)\n",
    "\n",
    "mean_learn_test = np.mean(learn_test , axis = 1)\n",
    "std_learn_test = np.std(learn_test, axis = 1)\n",
    "\n",
    "\n",
    "\n",
    "plt.plot(train_size, mean_learn_train, label='learn score', color = 'r')\n",
    "plt.fill_between(train_size, mean_learn_train-std_learn_train, mean_learn_train+std_learn_train, alpha=0.2, color='r')\n",
    "\n",
    "plt.plot(train_size, mean_learn_test, label='test score', color = 'g')\n",
    "plt.fill_between(train_size, mean_learn_test-std_learn_test, mean_learn_test+std_learn_test, alpha=0.2, color='g')\n",
    "\n",
    "idx_test_max = np.argmax(mean_learn_test)\n",
    "idx_train_max = np.argmax(mean_learn_train)\n",
    "\n",
    "plt.scatter(train_size[idx_test_max], mean_learn_test[idx_test_max],\n",
    "            label='Test_Max_Acc: ${:.2f}\\pm{:.5f}$'.format(\n",
    "                mean_learn_test[idx_test_max], std_learn_test[idx_test_max]))\n",
    "\n",
    "plt.scatter(train_size[idx_train_max], mean_learn_train[idx_train_max],\n",
    "            label='Train_Max_Acc: ${:.2f}\\pm{:.5f}$'.format(\n",
    "                mean_learn_train[idx_train_max], std_learn_train[idx_train_max]))\n",
    "\n",
    "\n",
    "\n",
    "plt.legend(loc='best',fontsize = 8)\n",
    "\n",
    "plt.title('learning curve for LinearSVM')\n",
    "plt.xlabel('size of training data')\n",
    "plt.ylabel('accuracy')\n",
    "plt.show()"
   ]
  },
  {
   "cell_type": "markdown",
   "metadata": {},
   "source": [
    "## feature selection"
   ]
  },
  {
   "cell_type": "code",
   "execution_count": 20,
   "metadata": {},
   "outputs": [],
   "source": [
    "# svm-feature selection\n",
    "#df = ndf.sample(n=500000,random_state=59,axis=0)\n",
    "df_wn_class_aft = df_wn.loc[:,['DEPARTURE_DELAY','TAXI_OUT','TAXI_IN',\n",
    "                               'take_off_hours','trip_speed','DISTANCE']].copy()\n",
    "#y = df.delay\n",
    "d_train5,d_test5,y_train5,y_test5 = train_test_split(df_wn_class_aft,y_wn,test_size = 0.3,random_state = 42)"
   ]
  },
  {
   "cell_type": "markdown",
   "metadata": {},
   "source": [
    "## GNB"
   ]
  },
  {
   "cell_type": "code",
   "execution_count": 21,
   "metadata": {},
   "outputs": [
    {
     "name": "stdout",
     "output_type": "stream",
     "text": [
      "0.8534342857142857 0.8526866666666667\n"
     ]
    },
    {
     "data": {
      "image/png": "[encoded data removed]",
      "text/plain": [
       "<Figure size 432x288 with 2 Axes>"
      ]
     },
     "metadata": {
      "needs_background": "light"
     },
     "output_type": "display_data"
    },
    {
     "name": "stdout",
     "output_type": "stream",
     "text": [
      "              precision    recall  f1-score   support\n",
      "\n",
      "           0       0.85      0.93      0.89     97569\n",
      "           1       0.85      0.71      0.77     52431\n",
      "\n",
      "    accuracy                           0.85    150000\n",
      "   macro avg       0.85      0.82      0.83    150000\n",
      "weighted avg       0.85      0.85      0.85    150000\n",
      "\n"
     ]
    }
   ],
   "source": [
    "gnb = GNB().fit(d_train5,y_train5)\n",
    "print(gnb.score(d_train5,y_train5),gnb.score(d_test5,y_test5))\n",
    "\n",
    "gnbl3 = gnb.predict(d_test5)\n",
    "marix_GNB = confusion_matrix(y_test5,gnbl3)\n",
    "\n",
    "normed_matrix = normalize(marix_GNB, axis=1, norm='l1') # normalize the matrix\n",
    "sns.heatmap(normed_matrix, annot = True,xticklabels = ['0','1'],yticklabels = ['0','1'],cmap = 'BuPu')\n",
    "plt.xlabel('Prediction classes')\n",
    "plt.ylabel('Actual classes')\n",
    "b,t = plt.ylim()       # change the height of top and bottom \n",
    "b = b+0.5 \n",
    "t = t-0.5\n",
    "plt.ylim(b,t)\n",
    "plt.show()  \n",
    "\n",
    "print(classification_report(y_test5,gnbl3))"
   ]
  },
  {
   "cell_type": "markdown",
   "metadata": {},
   "source": [
    "## SVM"
   ]
  },
  {
   "cell_type": "code",
   "execution_count": 82,
   "metadata": {},
   "outputs": [
    {
     "name": "stdout",
     "output_type": "stream",
     "text": [
      "0.8716514285714285 0.8713933333333334\n",
      "              precision    recall  f1-score   support\n",
      "\n",
      "           0       0.87      0.95      0.91     97569\n",
      "           1       0.89      0.73      0.80     52431\n",
      "\n",
      "    accuracy                           0.87    150000\n",
      "   macro avg       0.88      0.84      0.85    150000\n",
      "weighted avg       0.87      0.87      0.87    150000\n",
      "\n"
     ]
    },
    {
     "data": {
      "image/png": "[encoded data removed]",
      "text/plain": [
       "<Figure size 432x288 with 2 Axes>"
      ]
     },
     "metadata": {
      "needs_background": "light"
     },
     "output_type": "display_data"
    }
   ],
   "source": [
    "# 500000\n",
    "svc5 = LinearSVC(random_state = 24).fit(d_train5,y_train5)\n",
    "cvscore(svc5,d_train5,y_train5,cv = 5).mean(),svc5.score(d_test5,y_test5)\n",
    "svc15 = svc5.predict(d_test5)\n",
    "\n",
    "print(svc5.score(d_train5,y_train5),svc5.score(d_test5,y_test5))\n",
    "print(classification_report(y_tests5,svc15))\n",
    "\n",
    "\n",
    "marix_svc = confusion_matrix(y_test5,svc15)\n",
    "\n",
    "normed_matrix = normalize(marix_svc, axis=1, norm='l1') # normalize the matrix\n",
    "sns.heatmap(normed_matrix, annot = True,xticklabels = ['0','1'],yticklabels = ['0','1'],cmap = 'BuPu')\n",
    "plt.xlabel('Prediction classes')\n",
    "plt.ylabel('Actual classes')\n",
    "b,t = plt.ylim()       # change the height of top and bottom \n",
    "b = b+0.5 \n",
    "t = t-0.5\n",
    "plt.ylim(b,t)\n",
    "plt.show()  "
   ]
  },
  {
   "cell_type": "code",
   "execution_count": null,
   "metadata": {},
   "outputs": [],
   "source": []
  },
  {
   "cell_type": "markdown",
   "metadata": {},
   "source": [
    "## Linear"
   ]
  },
  {
   "cell_type": "code",
   "execution_count": 56,
   "metadata": {},
   "outputs": [],
   "source": [
    "df_wn_L = df_wn.loc[:,['SCHEDULED_DEPARTURE','DEPARTURE_TIME','DEPARTURE_DELAY','TAXI_OUT','DISTANCE',\n",
    "                'TAXI_IN','trip_speed','take_off_hours']].copy()\n",
    "# time predict\n",
    "y_wn_L = df_wn.ARRIVAL_DELAY\n",
    "d_train2,d_test2,y_train2,y_test2 = train_test_split(df_wn_L,y_wn_L,test_size = 0.3,random_state = 62)"
   ]
  },
  {
   "cell_type": "code",
   "execution_count": 57,
   "metadata": {},
   "outputs": [
    {
     "name": "stdout",
     "output_type": "stream",
     "text": [
      "LinearRegression()\n",
      "\n",
      "Linear Regression Performance Metrics testing\n",
      "R^2= 0.7949881678457444\n",
      "MAE: 5.765433520209717\n",
      "MSE: 59.608310834009025\n",
      "RMSE: 7.72064186671089\n",
      "\n",
      "Linear Regression Performance Metrics training\n",
      "R^2= 0.7923335378770346\n",
      "MAE: 5.796237260228477\n",
      "MSE: 60.43795042445504\n",
      "RMSE: 7.774184872027101\n"
     ]
    }
   ],
   "source": [
    "from sklearn.linear_model import LinearRegression\n",
    "\n",
    "lreg = LinearRegression()\n",
    "lreg.fit(d_train2,y_train2)\n",
    "print(lreg)\n",
    "\n",
    "y_pred_lreg = lreg.predict(d_test2)\n",
    "y_train_lreg = lreg.predict(d_train2)\n",
    "\n",
    "# Score It\n",
    "from sklearn import metrics\n",
    "print('\\nLinear Regression Performance Metrics testing')\n",
    "print('R^2=',metrics.explained_variance_score(y_test2,y_pred_lreg))\n",
    "print('MAE:',metrics.mean_absolute_error(y_test2,y_pred_lreg))\n",
    "print('MSE:',metrics.mean_squared_error(y_test2,y_pred_lreg))\n",
    "print('RMSE:',np.sqrt(metrics.mean_squared_error(y_test2,y_pred_lreg)))\n",
    "\n",
    "# Score It\n",
    "from sklearn import metrics\n",
    "print('\\nLinear Regression Performance Metrics training')\n",
    "print('R^2=',metrics.explained_variance_score(y_train2,y_train_lreg))\n",
    "print('MAE:',metrics.mean_absolute_error(y_train2,y_train_lreg))\n",
    "print('MSE:',metrics.mean_squared_error(y_train2,y_train_lreg))\n",
    "print('RMSE:',np.sqrt(metrics.mean_squared_error(y_train2,y_train_lreg)))"
   ]
  },
  {
   "cell_type": "code",
   "execution_count": 38,
   "metadata": {},
   "outputs": [],
   "source": [
    "# learning curve \n"
   ]
  },
  {
   "cell_type": "markdown",
   "metadata": {},
   "source": [
    "## R do stepwise selection "
   ]
  },
  {
   "cell_type": "markdown",
   "metadata": {},
   "source": [
    "## after stepwise selection "
   ]
  },
  {
   "cell_type": "code",
   "execution_count": 59,
   "metadata": {},
   "outputs": [
    {
     "name": "stdout",
     "output_type": "stream",
     "text": [
      "LinearRegression()\n",
      "\n",
      "Linear Regression Performance Metrics testing\n",
      "R^2= 0.7949846849363086\n",
      "MAE: 5.765489977569195\n",
      "MSE: 59.60932100917394\n",
      "RMSE: 7.720707286847102\n",
      "\n",
      "Linear Regression Performance Metrics training\n",
      "R^2= 0.7923315239708318\n",
      "MAE: 5.796296587348595\n",
      "MSE: 60.438536539141076\n",
      "RMSE: 7.774222568150534\n"
     ]
    },
    {
     "data": {
      "image/png": "[encoded data removed]",
      "text/plain": [
       "<Figure size 432x288 with 1 Axes>"
      ]
     },
     "metadata": {
      "needs_background": "light"
     },
     "output_type": "display_data"
    }
   ],
   "source": [
    "# after stpewise selection \n",
    "\n",
    "\n",
    "df_wn_L2 = df_wn.loc[:,['DEPARTURE_TIME', \n",
    "                           'DEPARTURE_DELAY', 'TAXI_OUT', 'DISTANCE', 'TAXI_IN', \n",
    "                           'trip_speed']].copy()\n",
    "\n",
    "d_train4,d_test4,y_train4,y_test4 = train_test_split(df_wn_L2,y_wn_L,test_size = 0.3,random_state = 62)\n",
    "\n",
    "\n",
    "lreg = LinearRegression()\n",
    "lreg.fit(d_train4,y_train4)\n",
    "print(lreg)\n",
    "\n",
    "y_pred_lreg = lreg.predict(d_test4)\n",
    "y_train_lreg = lreg.predict(d_train4)\n",
    "\n",
    "# Score It\n",
    "from sklearn import metrics\n",
    "print('\\nLinear Regression Performance Metrics testing')\n",
    "print('R^2=',metrics.explained_variance_score(y_test4,y_pred_lreg))\n",
    "print('MAE:',metrics.mean_absolute_error(y_test4,y_pred_lreg))\n",
    "print('MSE:',metrics.mean_squared_error(y_test4,y_pred_lreg))\n",
    "print('RMSE:',np.sqrt(metrics.mean_squared_error(y_test4,y_pred_lreg)))\n",
    "\n",
    "# Score It\n",
    "from sklearn import metrics\n",
    "print('\\nLinear Regression Performance Metrics training')\n",
    "print('R^2=',metrics.explained_variance_score(y_train4,y_train_lreg))\n",
    "print('MAE:',metrics.mean_absolute_error(y_train4,y_train_lreg))\n",
    "print('MSE:',metrics.mean_squared_error(y_train4,y_train_lreg))\n",
    "print('RMSE:',np.sqrt(metrics.mean_squared_error(y_train4,y_train_lreg)))\n",
    "\n",
    "\n",
    "\n",
    "\n",
    "import scipy.stats as stats\n",
    "import statsmodels.api as sm\n",
    "\n",
    "cols = list(df_wn_L2.columns)\n",
    "pmax = 1\n",
    "while (len(cols)>0):\n",
    "    p= []\n",
    "    X_1 = df_wn_L2[cols]\n",
    "    X_1 = sm.add_constant(X_1)\n",
    "    model = sm.OLS(y_wn_L,X_1).fit()\n",
    "    p = pd.Series(model.pvalues.values[1:],index = cols)      \n",
    "    pmax = max(p)\n",
    "    feature_with_p_max = p.idxmax()\n",
    "    if(pmax>0.05):\n",
    "        cols.remove(feature_with_p_max)\n",
    "    else:\n",
    "        break\n",
    "selected_features_BE = cols\n",
    "#print('selected features after stepwise selection: ',selected_features_BE)\n",
    "\n",
    "\n",
    "\n",
    "# Standard Coefficient plot\n",
    "\n",
    "coef_dict_baseline = {}\n",
    "for coef, feat in zip(lreg.coef_,df_wn_L2.columns):\n",
    "    coef_dict_baseline[feat] = coef\n",
    "\n",
    "\n",
    "\n",
    "names = list(coef_dict_baseline.keys())\n",
    "values = list(coef_dict_baseline.values())\n",
    "\n",
    "#tick_label does the some work as plt.xticks()\n",
    "plt.barh(range(len(coef_dict_baseline)),values,tick_label=names)\n",
    "\n",
    "\n",
    "plt.xlabel('Standard Coefficient')\n",
    "plt.ylabel('features')\n",
    "plt.title('Standard Coefficient magnitudes of Linear Rgression ')\n",
    "plt.show()"
   ]
  },
  {
   "cell_type": "markdown",
   "metadata": {},
   "source": [
    "## drop insignicant features "
   ]
  },
  {
   "cell_type": "code",
   "execution_count": 60,
   "metadata": {},
   "outputs": [
    {
     "name": "stdout",
     "output_type": "stream",
     "text": [
      "LinearRegression()\n",
      "\n",
      "Linear Regression Performance Metrics testing\n",
      "R^2= 0.7937868752076699\n",
      "MAE: 5.792525143607258\n",
      "MSE: 59.95757052762677\n",
      "RMSE: 7.743227397385845\n",
      "\n",
      "Linear Regression Performance Metrics training\n",
      "R^2= 0.7911442107097896\n",
      "MAE: 5.823583514537615\n",
      "MSE: 60.784084776808236\n",
      "RMSE: 7.796414866899288\n"
     ]
    }
   ],
   "source": [
    "df_wn_L3 = df_wn.loc[:,['DEPARTURE_DELAY', 'TAXI_OUT', 'TAXI_IN', 'trip_speed']].copy()\n",
    "\n",
    "d_trainL3,d_testL3,y_trainL3,y_testL3 = train_test_split(df_wn_L3,y_wn_L,test_size = 0.3,random_state = 62)\n",
    "\n",
    "\n",
    "lreg = LinearRegression()\n",
    "lreg.fit(d_trainL3,y_trainL3)\n",
    "print(lreg)\n",
    "\n",
    "y_pred_lreg = lreg.predict(d_testL3)\n",
    "y_train_lreg = lreg.predict(d_trainL3)\n",
    "\n",
    "# Score It\n",
    "from sklearn import metrics\n",
    "print('\\nLinear Regression Performance Metrics testing')\n",
    "print('R^2=',metrics.explained_variance_score(y_testL3,y_pred_lreg))\n",
    "print('MAE:',metrics.mean_absolute_error(y_testL3,y_pred_lreg))\n",
    "print('MSE:',metrics.mean_squared_error(y_testL3,y_pred_lreg))\n",
    "print('RMSE:',np.sqrt(metrics.mean_squared_error(y_testL3,y_pred_lreg)))\n",
    "\n",
    "# Score It\n",
    "from sklearn import metrics\n",
    "print('\\nLinear Regression Performance Metrics training')\n",
    "print('R^2=',metrics.explained_variance_score(y_trainL3,y_train_lreg))\n",
    "print('MAE:',metrics.mean_absolute_error(y_trainL3,y_train_lreg))\n",
    "print('MSE:',metrics.mean_squared_error(y_trainL3,y_train_lreg))\n",
    "print('RMSE:',np.sqrt(metrics.mean_squared_error(y_trainL3,y_train_lreg)))\n"
   ]
  },
  {
   "cell_type": "markdown",
   "metadata": {},
   "source": [
    "### DL airline"
   ]
  },
  {
   "cell_type": "markdown",
   "metadata": {},
   "source": [
    "#### GNB"
   ]
  },
  {
   "cell_type": "code",
   "execution_count": 43,
   "metadata": {},
   "outputs": [
    {
     "data": {
      "text/html": [
       "<div>\n",
       "<style scoped>\n",
       "    .dataframe tbody tr th:only-of-type {\n",
       "        vertical-align: middle;\n",
       "    }\n",
       "\n",
       "    .dataframe tbody tr th {\n",
       "        vertical-align: top;\n",
       "    }\n",
       "\n",
       "    .dataframe thead th {\n",
       "        text-align: right;\n",
       "    }\n",
       "</style>\n",
       "<table border=\"1\" class=\"dataframe\">\n",
       "  <thead>\n",
       "    <tr style=\"text-align: right;\">\n",
       "      <th></th>\n",
       "      <th>YEAR</th>\n",
       "      <th>MONTH</th>\n",
       "      <th>DAY</th>\n",
       "      <th>DAY_OF_WEEK</th>\n",
       "      <th>AIRLINE</th>\n",
       "      <th>ORIGIN_AIRPORT</th>\n",
       "      <th>DESTINATION_AIRPORT</th>\n",
       "      <th>SCHEDULED_DEPARTURE</th>\n",
       "      <th>DEPARTURE_TIME</th>\n",
       "      <th>DEPARTURE_DELAY</th>\n",
       "      <th>...</th>\n",
       "      <th>AIR_TIME</th>\n",
       "      <th>DISTANCE</th>\n",
       "      <th>WHEELS_ON</th>\n",
       "      <th>TAXI_IN</th>\n",
       "      <th>SCHEDULED_ARRIVAL</th>\n",
       "      <th>ARRIVAL_TIME</th>\n",
       "      <th>ARRIVAL_DELAY</th>\n",
       "      <th>trip_speed</th>\n",
       "      <th>take_off_hours</th>\n",
       "      <th>delay</th>\n",
       "    </tr>\n",
       "  </thead>\n",
       "  <tbody>\n",
       "    <tr>\n",
       "      <th>5</th>\n",
       "      <td>2015</td>\n",
       "      <td>1</td>\n",
       "      <td>1</td>\n",
       "      <td>4</td>\n",
       "      <td>DL</td>\n",
       "      <td>SFO</td>\n",
       "      <td>MSP</td>\n",
       "      <td>25</td>\n",
       "      <td>20.0</td>\n",
       "      <td>-5.0</td>\n",
       "      <td>...</td>\n",
       "      <td>206.0</td>\n",
       "      <td>1589</td>\n",
       "      <td>604.0</td>\n",
       "      <td>6.0</td>\n",
       "      <td>602</td>\n",
       "      <td>610.0</td>\n",
       "      <td>8.0</td>\n",
       "      <td>7.713592</td>\n",
       "      <td>0</td>\n",
       "      <td>1</td>\n",
       "    </tr>\n",
       "    <tr>\n",
       "      <th>9</th>\n",
       "      <td>2015</td>\n",
       "      <td>1</td>\n",
       "      <td>1</td>\n",
       "      <td>4</td>\n",
       "      <td>DL</td>\n",
       "      <td>LAS</td>\n",
       "      <td>ATL</td>\n",
       "      <td>30</td>\n",
       "      <td>33.0</td>\n",
       "      <td>3.0</td>\n",
       "      <td>...</td>\n",
       "      <td>186.0</td>\n",
       "      <td>1747</td>\n",
       "      <td>651.0</td>\n",
       "      <td>5.0</td>\n",
       "      <td>711</td>\n",
       "      <td>656.0</td>\n",
       "      <td>-15.0</td>\n",
       "      <td>9.392473</td>\n",
       "      <td>0</td>\n",
       "      <td>0</td>\n",
       "    </tr>\n",
       "    <tr>\n",
       "      <th>10</th>\n",
       "      <td>2015</td>\n",
       "      <td>1</td>\n",
       "      <td>1</td>\n",
       "      <td>4</td>\n",
       "      <td>DL</td>\n",
       "      <td>DEN</td>\n",
       "      <td>ATL</td>\n",
       "      <td>30</td>\n",
       "      <td>24.0</td>\n",
       "      <td>-6.0</td>\n",
       "      <td>...</td>\n",
       "      <td>133.0</td>\n",
       "      <td>1199</td>\n",
       "      <td>449.0</td>\n",
       "      <td>4.0</td>\n",
       "      <td>523</td>\n",
       "      <td>453.0</td>\n",
       "      <td>-30.0</td>\n",
       "      <td>9.015038</td>\n",
       "      <td>0</td>\n",
       "      <td>0</td>\n",
       "    </tr>\n",
       "    <tr>\n",
       "      <th>12</th>\n",
       "      <td>2015</td>\n",
       "      <td>1</td>\n",
       "      <td>1</td>\n",
       "      <td>4</td>\n",
       "      <td>DL</td>\n",
       "      <td>LAX</td>\n",
       "      <td>MSP</td>\n",
       "      <td>35</td>\n",
       "      <td>35.0</td>\n",
       "      <td>0.0</td>\n",
       "      <td>...</td>\n",
       "      <td>188.0</td>\n",
       "      <td>1535</td>\n",
       "      <td>601.0</td>\n",
       "      <td>4.0</td>\n",
       "      <td>609</td>\n",
       "      <td>605.0</td>\n",
       "      <td>-4.0</td>\n",
       "      <td>8.164894</td>\n",
       "      <td>0</td>\n",
       "      <td>0</td>\n",
       "    </tr>\n",
       "    <tr>\n",
       "      <th>13</th>\n",
       "      <td>2015</td>\n",
       "      <td>1</td>\n",
       "      <td>1</td>\n",
       "      <td>4</td>\n",
       "      <td>DL</td>\n",
       "      <td>SLC</td>\n",
       "      <td>ATL</td>\n",
       "      <td>40</td>\n",
       "      <td>34.0</td>\n",
       "      <td>-6.0</td>\n",
       "      <td>...</td>\n",
       "      <td>176.0</td>\n",
       "      <td>1590</td>\n",
       "      <td>548.0</td>\n",
       "      <td>5.0</td>\n",
       "      <td>615</td>\n",
       "      <td>553.0</td>\n",
       "      <td>-22.0</td>\n",
       "      <td>9.034091</td>\n",
       "      <td>0</td>\n",
       "      <td>0</td>\n",
       "    </tr>\n",
       "    <tr>\n",
       "      <th>...</th>\n",
       "      <td>...</td>\n",
       "      <td>...</td>\n",
       "      <td>...</td>\n",
       "      <td>...</td>\n",
       "      <td>...</td>\n",
       "      <td>...</td>\n",
       "      <td>...</td>\n",
       "      <td>...</td>\n",
       "      <td>...</td>\n",
       "      <td>...</td>\n",
       "      <td>...</td>\n",
       "      <td>...</td>\n",
       "      <td>...</td>\n",
       "      <td>...</td>\n",
       "      <td>...</td>\n",
       "      <td>...</td>\n",
       "      <td>...</td>\n",
       "      <td>...</td>\n",
       "      <td>...</td>\n",
       "      <td>...</td>\n",
       "      <td>...</td>\n",
       "    </tr>\n",
       "    <tr>\n",
       "      <th>5819027</th>\n",
       "      <td>2015</td>\n",
       "      <td>12</td>\n",
       "      <td>31</td>\n",
       "      <td>4</td>\n",
       "      <td>DL</td>\n",
       "      <td>SLC</td>\n",
       "      <td>JFK</td>\n",
       "      <td>2345</td>\n",
       "      <td>2344.0</td>\n",
       "      <td>-1.0</td>\n",
       "      <td>...</td>\n",
       "      <td>217.0</td>\n",
       "      <td>1990</td>\n",
       "      <td>536.0</td>\n",
       "      <td>6.0</td>\n",
       "      <td>606</td>\n",
       "      <td>542.0</td>\n",
       "      <td>-24.0</td>\n",
       "      <td>9.170507</td>\n",
       "      <td>23</td>\n",
       "      <td>0</td>\n",
       "    </tr>\n",
       "    <tr>\n",
       "      <th>5819032</th>\n",
       "      <td>2015</td>\n",
       "      <td>12</td>\n",
       "      <td>31</td>\n",
       "      <td>4</td>\n",
       "      <td>DL</td>\n",
       "      <td>HNL</td>\n",
       "      <td>PDX</td>\n",
       "      <td>2350</td>\n",
       "      <td>2350.0</td>\n",
       "      <td>0.0</td>\n",
       "      <td>...</td>\n",
       "      <td>285.0</td>\n",
       "      <td>2603</td>\n",
       "      <td>656.0</td>\n",
       "      <td>19.0</td>\n",
       "      <td>731</td>\n",
       "      <td>715.0</td>\n",
       "      <td>-16.0</td>\n",
       "      <td>9.133333</td>\n",
       "      <td>0</td>\n",
       "      <td>0</td>\n",
       "    </tr>\n",
       "    <tr>\n",
       "      <th>5819033</th>\n",
       "      <td>2015</td>\n",
       "      <td>12</td>\n",
       "      <td>31</td>\n",
       "      <td>4</td>\n",
       "      <td>DL</td>\n",
       "      <td>LAX</td>\n",
       "      <td>ATL</td>\n",
       "      <td>2350</td>\n",
       "      <td>16.0</td>\n",
       "      <td>26.0</td>\n",
       "      <td>...</td>\n",
       "      <td>203.0</td>\n",
       "      <td>1947</td>\n",
       "      <td>658.0</td>\n",
       "      <td>7.0</td>\n",
       "      <td>654</td>\n",
       "      <td>705.0</td>\n",
       "      <td>11.0</td>\n",
       "      <td>9.591133</td>\n",
       "      <td>0</td>\n",
       "      <td>1</td>\n",
       "    </tr>\n",
       "    <tr>\n",
       "      <th>5819042</th>\n",
       "      <td>2015</td>\n",
       "      <td>12</td>\n",
       "      <td>31</td>\n",
       "      <td>4</td>\n",
       "      <td>DL</td>\n",
       "      <td>PDX</td>\n",
       "      <td>ATL</td>\n",
       "      <td>2355</td>\n",
       "      <td>2349.0</td>\n",
       "      <td>-6.0</td>\n",
       "      <td>...</td>\n",
       "      <td>242.0</td>\n",
       "      <td>2172</td>\n",
       "      <td>700.0</td>\n",
       "      <td>4.0</td>\n",
       "      <td>719</td>\n",
       "      <td>704.0</td>\n",
       "      <td>-15.0</td>\n",
       "      <td>8.975207</td>\n",
       "      <td>23</td>\n",
       "      <td>0</td>\n",
       "    </tr>\n",
       "    <tr>\n",
       "      <th>5819058</th>\n",
       "      <td>2015</td>\n",
       "      <td>12</td>\n",
       "      <td>31</td>\n",
       "      <td>4</td>\n",
       "      <td>DL</td>\n",
       "      <td>PHX</td>\n",
       "      <td>DTW</td>\n",
       "      <td>2359</td>\n",
       "      <td>2352.0</td>\n",
       "      <td>-7.0</td>\n",
       "      <td>...</td>\n",
       "      <td>180.0</td>\n",
       "      <td>1671</td>\n",
       "      <td>505.0</td>\n",
       "      <td>7.0</td>\n",
       "      <td>543</td>\n",
       "      <td>512.0</td>\n",
       "      <td>-31.0</td>\n",
       "      <td>9.283333</td>\n",
       "      <td>0</td>\n",
       "      <td>0</td>\n",
       "    </tr>\n",
       "  </tbody>\n",
       "</table>\n",
       "<p>846537 rows × 24 columns</p>\n",
       "</div>"
      ],
      "text/plain": [
       "         YEAR  MONTH  DAY  DAY_OF_WEEK AIRLINE ORIGIN_AIRPORT  \\\n",
       "5        2015      1    1            4      DL            SFO   \n",
       "9        2015      1    1            4      DL            LAS   \n",
       "10       2015      1    1            4      DL            DEN   \n",
       "12       2015      1    1            4      DL            LAX   \n",
       "13       2015      1    1            4      DL            SLC   \n",
       "...       ...    ...  ...          ...     ...            ...   \n",
       "5819027  2015     12   31            4      DL            SLC   \n",
       "5819032  2015     12   31            4      DL            HNL   \n",
       "5819033  2015     12   31            4      DL            LAX   \n",
       "5819042  2015     12   31            4      DL            PDX   \n",
       "5819058  2015     12   31            4      DL            PHX   \n",
       "\n",
       "        DESTINATION_AIRPORT  SCHEDULED_DEPARTURE  DEPARTURE_TIME  \\\n",
       "5                       MSP                   25            20.0   \n",
       "9                       ATL                   30            33.0   \n",
       "10                      ATL                   30            24.0   \n",
       "12                      MSP                   35            35.0   \n",
       "13                      ATL                   40            34.0   \n",
       "...                     ...                  ...             ...   \n",
       "5819027                 JFK                 2345          2344.0   \n",
       "5819032                 PDX                 2350          2350.0   \n",
       "5819033                 ATL                 2350            16.0   \n",
       "5819042                 ATL                 2355          2349.0   \n",
       "5819058                 DTW                 2359          2352.0   \n",
       "\n",
       "         DEPARTURE_DELAY  ...  AIR_TIME  DISTANCE  WHEELS_ON  TAXI_IN  \\\n",
       "5                   -5.0  ...     206.0      1589      604.0      6.0   \n",
       "9                    3.0  ...     186.0      1747      651.0      5.0   \n",
       "10                  -6.0  ...     133.0      1199      449.0      4.0   \n",
       "12                   0.0  ...     188.0      1535      601.0      4.0   \n",
       "13                  -6.0  ...     176.0      1590      548.0      5.0   \n",
       "...                  ...  ...       ...       ...        ...      ...   \n",
       "5819027             -1.0  ...     217.0      1990      536.0      6.0   \n",
       "5819032              0.0  ...     285.0      2603      656.0     19.0   \n",
       "5819033             26.0  ...     203.0      1947      658.0      7.0   \n",
       "5819042             -6.0  ...     242.0      2172      700.0      4.0   \n",
       "5819058             -7.0  ...     180.0      1671      505.0      7.0   \n",
       "\n",
       "         SCHEDULED_ARRIVAL  ARRIVAL_TIME  ARRIVAL_DELAY  trip_speed  \\\n",
       "5                      602         610.0            8.0    7.713592   \n",
       "9                      711         656.0          -15.0    9.392473   \n",
       "10                     523         453.0          -30.0    9.015038   \n",
       "12                     609         605.0           -4.0    8.164894   \n",
       "13                     615         553.0          -22.0    9.034091   \n",
       "...                    ...           ...            ...         ...   \n",
       "5819027                606         542.0          -24.0    9.170507   \n",
       "5819032                731         715.0          -16.0    9.133333   \n",
       "5819033                654         705.0           11.0    9.591133   \n",
       "5819042                719         704.0          -15.0    8.975207   \n",
       "5819058                543         512.0          -31.0    9.283333   \n",
       "\n",
       "         take_off_hours  delay  \n",
       "5                     0      1  \n",
       "9                     0      0  \n",
       "10                    0      0  \n",
       "12                    0      0  \n",
       "13                    0      0  \n",
       "...                 ...    ...  \n",
       "5819027              23      0  \n",
       "5819032               0      0  \n",
       "5819033               0      1  \n",
       "5819042              23      0  \n",
       "5819058               0      0  \n",
       "\n",
       "[846537 rows x 24 columns]"
      ]
     },
     "execution_count": 43,
     "metadata": {},
     "output_type": "execute_result"
    }
   ],
   "source": [
    "r = list(ndf[ndf['AIRLINE'] !='DL'].index) \n",
    "ndf_DL = ndf.drop(index = r).copy()\n",
    "ndf_DL"
   ]
  },
  {
   "cell_type": "code",
   "execution_count": 44,
   "metadata": {},
   "outputs": [],
   "source": [
    "# all\n",
    "#df = ndf2.loc[:,['SCHEDULED_DEPARTURE','DEPARTURE_DELAY','TAXI_OUT','DISTANCE','TAXI_IN','trip_speed','take_off_hours']].copy()\n",
    "#y = ndf2.delay\n",
    "#d_train,d_test,y_train,y_test = train_test_split(df,y,test_size = 0.3,random_state = 42)"
   ]
  },
  {
   "cell_type": "code",
   "execution_count": 45,
   "metadata": {},
   "outputs": [],
   "source": [
    "df2 = ndf_DL.sample(n=500000,random_state=59,axis=0)\n",
    "y2DL = df2.delay\n",
    "\n",
    "\n",
    "f_data2 = df2.loc[:,['SCHEDULED_DEPARTURE','DEPARTURE_DELAY','DEPARTURE_TIME',\n",
    "                    'TAXI_OUT','DISTANCE','TAXI_IN','trip_speed','take_off_hours']].copy()\n",
    "\n",
    "dDL_train,dDL_test,yDL_train,yDL_test = train_test_split(f_data2,y2DL,test_size = 0.3,random_state = 42)\n",
    "\n"
   ]
  },
  {
   "cell_type": "code",
   "execution_count": 46,
   "metadata": {},
   "outputs": [
    {
     "name": "stdout",
     "output_type": "stream",
     "text": [
      "0.8583714285714286 0.8575066666666666\n"
     ]
    },
    {
     "data": {
      "image/png": "[encoded data removed]",
      "text/plain": [
       "<Figure size 432x288 with 2 Axes>"
      ]
     },
     "metadata": {
      "needs_background": "light"
     },
     "output_type": "display_data"
    },
    {
     "name": "stdout",
     "output_type": "stream",
     "text": [
      "              precision    recall  f1-score   support\n",
      "\n",
      "           0       0.88      0.94      0.91    109732\n",
      "           1       0.79      0.64      0.71     40268\n",
      "\n",
      "    accuracy                           0.86    150000\n",
      "   macro avg       0.83      0.79      0.81    150000\n",
      "weighted avg       0.85      0.86      0.85    150000\n",
      "\n"
     ]
    }
   ],
   "source": [
    "gnb = GNB().fit(dDL_train,yDL_train)\n",
    "print(gnb.score(dDL_train,yDL_train),gnb.score(dDL_test,yDL_test))\n",
    "\n",
    "gnb_DL1 = gnb.predict(dDL_test)\n",
    "marix_GNB = confusion_matrix(yDL_test,gnb_DL1)\n",
    "\n",
    "normed_matrix = normalize(marix_GNB, axis=1, norm='l1') # normalize the matrix\n",
    "sns.heatmap(normed_matrix, annot = True,xticklabels = ['0','1'],yticklabels = ['0','1'],cmap = 'BuPu')\n",
    "plt.xlabel('Prediction classes')\n",
    "plt.ylabel('Actual classes')\n",
    "b,t = plt.ylim()       # change the height of top and bottom \n",
    "b = b+0.5 \n",
    "t = t-0.5\n",
    "plt.ylim(b,t)\n",
    "plt.show()  \n",
    "\n",
    "print(classification_report(yDL_test,gnb_DL1))"
   ]
  },
  {
   "cell_type": "markdown",
   "metadata": {},
   "source": [
    "## SVM"
   ]
  },
  {
   "cell_type": "code",
   "execution_count": 83,
   "metadata": {},
   "outputs": [
    {
     "name": "stdout",
     "output_type": "stream",
     "text": [
      "              precision    recall  f1-score   support\n",
      "\n",
      "           0       0.91      0.91      0.91    109732\n",
      "           1       0.75      0.76      0.75     40268\n",
      "\n",
      "    accuracy                           0.87    150000\n",
      "   macro avg       0.83      0.83      0.83    150000\n",
      "weighted avg       0.87      0.87      0.87    150000\n",
      "\n"
     ]
    },
    {
     "data": {
      "image/png": "[encoded data removed]",
      "text/plain": [
       "<Figure size 432x288 with 2 Axes>"
      ]
     },
     "metadata": {
      "needs_background": "light"
     },
     "output_type": "display_data"
    }
   ],
   "source": [
    "svc = LinearSVC(random_state=24).fit(dDL_train,yDL_train)\n",
    "\n",
    "svc_DL1 = svc.predict(dDL_test)\n",
    "\n",
    "print(svc.score(dDL_train,yDL_train),svc.score(dDL_test,yDL_test))\n",
    "print(classification_report(yDL_test,svc_DL1))\n",
    "\n",
    "\n",
    "marix_svc = confusion_matrix(yDL_test,svc_DL1)\n",
    "\n",
    "normed_matrix = normalize(marix_svc, axis=1, norm='l1') # normalize the matrix\n",
    "sns.heatmap(normed_matrix, annot = True,xticklabels = ['0','1'],yticklabels = ['0','1'],cmap = 'BuPu')\n",
    "plt.xlabel('Prediction classes')\n",
    "plt.ylabel('Actual classes')\n",
    "b,t = plt.ylim()       # change the height of top and bottom \n",
    "b = b+0.5 \n",
    "t = t-0.5\n",
    "plt.ylim(b,t)\n",
    "plt.show()"
   ]
  },
  {
   "cell_type": "code",
   "execution_count": 84,
   "metadata": {},
   "outputs": [
    {
     "name": "stdout",
     "output_type": "stream",
     "text": [
      "0.86998 0.8696666666666667\n",
      "              precision    recall  f1-score   support\n",
      "\n",
      "           0       0.87      0.94      0.90     97569\n",
      "           1       0.86      0.74      0.80     52431\n",
      "\n",
      "    accuracy                           0.87    150000\n",
      "   macro avg       0.87      0.84      0.85    150000\n",
      "weighted avg       0.87      0.87      0.87    150000\n",
      "\n"
     ]
    },
    {
     "data": {
      "image/png": "[encoded data removed]",
      "text/plain": [
       "<Figure size 432x288 with 2 Axes>"
      ]
     },
     "metadata": {
      "needs_background": "light"
     },
     "output_type": "display_data"
    },
    {
     "name": "stdout",
     "output_type": "stream",
     "text": [
      "0.8320714285714285 0.2684533333333333\n"
     ]
    }
   ],
   "source": []
  },
  {
   "cell_type": "markdown",
   "metadata": {},
   "source": [
    "## Feature selction"
   ]
  },
  {
   "cell_type": "code",
   "execution_count": 92,
   "metadata": {},
   "outputs": [],
   "source": [
    "f_data_DL2 = df2.loc[:,['DEPARTURE_DELAY','TAXI_OUT','DISTANCE','TAXI_IN','trip_speed','take_off_hours']].copy()\n",
    "d_train_DL2,d_test_DL2,y_train_DL2,y_test_DL2 = train_test_split(f_data_DL2,y2DL,test_size = 0.3,random_state = 59)"
   ]
  },
  {
   "cell_type": "markdown",
   "metadata": {},
   "source": [
    "## GNB"
   ]
  },
  {
   "cell_type": "code",
   "execution_count": 93,
   "metadata": {},
   "outputs": [
    {
     "name": "stdout",
     "output_type": "stream",
     "text": [
      "0.85912 0.8587933333333333\n"
     ]
    },
    {
     "data": {
      "image/png": "[encoded data removed]",
      "text/plain": [
       "<Figure size 432x288 with 2 Axes>"
      ]
     },
     "metadata": {
      "needs_background": "light"
     },
     "output_type": "display_data"
    },
    {
     "name": "stdout",
     "output_type": "stream",
     "text": [
      "              precision    recall  f1-score   support\n",
      "\n",
      "           0       0.88      0.94      0.91    109663\n",
      "           1       0.80      0.64      0.71     40337\n",
      "\n",
      "    accuracy                           0.86    150000\n",
      "   macro avg       0.84      0.79      0.81    150000\n",
      "weighted avg       0.85      0.86      0.85    150000\n",
      "\n"
     ]
    }
   ],
   "source": [
    "gnb = GNB().fit(d_train_DL2,y_train_DL2)\n",
    "print(gnb.score(d_train_DL2,y_train_DL2),gnb.score(d_test_DL2,y_test_DL2))\n",
    "\n",
    "gnb_DL2 = gnb.predict(d_test_DL2)\n",
    "marix_GNB = confusion_matrix(y_test_DL2,gnb_DL2)\n",
    "\n",
    "normed_matrix = normalize(marix_GNB, axis=1, norm='l1') # normalize the matrix\n",
    "sns.heatmap(normed_matrix, annot = True,xticklabels = ['0','1'],yticklabels = ['0','1'],cmap = 'BuPu')\n",
    "plt.xlabel('Prediction classes')\n",
    "plt.ylabel('Actual classes')\n",
    "b,t = plt.ylim()       # change the height of top and bottom \n",
    "\n",
    "b = b+0.5 \n",
    "t = t-0.5\n",
    "plt.ylim(b,t)\n",
    "plt.show()  \n",
    "\n",
    "print(classification_report(y_test_DL2,gnb_DL2))"
   ]
  },
  {
   "cell_type": "markdown",
   "metadata": {},
   "source": [
    "## SVM"
   ]
  },
  {
   "cell_type": "code",
   "execution_count": 95,
   "metadata": {},
   "outputs": [
    {
     "name": "stdout",
     "output_type": "stream",
     "text": [
      "0.7613 0.3478\n",
      "              precision    recall  f1-score   support\n",
      "\n",
      "           0       0.99      0.11      0.20    109663\n",
      "           1       0.29      1.00      0.45     40337\n",
      "\n",
      "    accuracy                           0.35    150000\n",
      "   macro avg       0.64      0.55      0.32    150000\n",
      "weighted avg       0.80      0.35      0.26    150000\n",
      "\n"
     ]
    },
    {
     "data": {
      "image/png": "[encoded data removed]",
      "text/plain": [
       "<Figure size 432x288 with 2 Axes>"
      ]
     },
     "metadata": {
      "needs_background": "light"
     },
     "output_type": "display_data"
    }
   ],
   "source": [
    "svc = LinearSVC(random_state=24).fit(d_train_DL2,y_train_DL2)\n",
    "print(cvscore(svc,d_train_DL2,y_train_DL2,cv = 5).mean(),svc.score(d_test_DL2,y_test_DL2))\n",
    "\n",
    "svc_DL2 = svc.predict(d_test_DL2)\n",
    "print(classification_report(y_test_DL2,svc_DL2))\n",
    "\n",
    "\n",
    "marix_svc = confusion_matrix(y_test_DL2,svc_DL2)\n",
    "\n",
    "\n",
    "normed_matrix = normalize(marix_svc, axis=1, norm='l1') # normalize the matrix\n",
    "sns.heatmap(normed_matrix, annot = True,xticklabels = ['0','1'],yticklabels = ['0','1'],cmap = 'BuPu')\n",
    "plt.xlabel('Prediction classes')\n",
    "plt.ylabel('Actual classes')\n",
    "b,t = plt.ylim()       # change the height of top and bottom \n",
    "b = b+0.5 \n",
    "t = t-0.5\n",
    "plt.ylim(b,t)\n",
    "plt.show() "
   ]
  },
  {
   "cell_type": "code",
   "execution_count": null,
   "metadata": {},
   "outputs": [],
   "source": []
  },
  {
   "cell_type": "markdown",
   "metadata": {},
   "source": [
    "## Linear"
   ]
  },
  {
   "cell_type": "code",
   "execution_count": 50,
   "metadata": {},
   "outputs": [],
   "source": [
    "df_linear = ndf_DL.loc[:,['SCHEDULED_DEPARTURE','DEPARTURE_TIME','DEPARTURE_DELAY','TAXI_OUT','DISTANCE',\n",
    "                'TAXI_IN','trip_speed','take_off_hours']].copy()\n",
    "\n",
    "y_linear = ndf_DL.ARRIVAL_DELAY\n",
    "d_trainL,d_testL,y_trainL,y_testL = train_test_split(df_linear,y_linear,test_size = 0.3,random_state = 62)"
   ]
  },
  {
   "cell_type": "code",
   "execution_count": 51,
   "metadata": {},
   "outputs": [
    {
     "name": "stdout",
     "output_type": "stream",
     "text": [
      "LinearRegression()\n",
      "\n",
      "Linear Regression Performance Metrics testing\n",
      "R^2= 0.7523304374942251\n",
      "MAE: 6.684649696851488\n",
      "MSE: 80.47237610760074\n",
      "RMSE: 8.970639671037999\n",
      "\n",
      "Linear Regression Performance Metrics training\n",
      "R^2= 0.7497015570606265\n",
      "MAE: 6.716659727323046\n",
      "MSE: 81.37128613550539\n",
      "RMSE: 9.020603424134407\n"
     ]
    }
   ],
   "source": [
    "from sklearn.linear_model import LinearRegression\n",
    "\n",
    "lreg_DL = LinearRegression()\n",
    "lreg_DL.fit(d_trainL,y_trainL)\n",
    "print(lreg_DL)\n",
    "\n",
    "y_pred_lreg_DL = lreg_DL.predict(d_testL)\n",
    "y_train_lreg_DL = lreg_DL.predict(d_trainL)\n",
    "\n",
    "# Score It\n",
    "from sklearn import metrics\n",
    "print('\\nLinear Regression Performance Metrics testing')\n",
    "print('R^2=',metrics.explained_variance_score(y_testL,y_pred_lreg_DL))\n",
    "print('MAE:',metrics.mean_absolute_error(y_testL,y_pred_lreg_DL))\n",
    "print('MSE:',metrics.mean_squared_error(y_testL,y_pred_lreg_DL))\n",
    "print('RMSE:',np.sqrt(metrics.mean_squared_error(y_testL,y_pred_lreg_DL)))\n",
    "\n",
    "# Score It\n",
    "from sklearn import metrics\n",
    "print('\\nLinear Regression Performance Metrics training')\n",
    "print('R^2=',metrics.explained_variance_score(y_trainL,y_train_lreg_DL))\n",
    "print('MAE:',metrics.mean_absolute_error(y_trainL,y_train_lreg_DL))\n",
    "print('MSE:',metrics.mean_squared_error(y_trainL,y_train_lreg_DL))\n",
    "print('RMSE:',np.sqrt(metrics.mean_squared_error(y_trainL,y_train_lreg_DL)))"
   ]
  },
  {
   "cell_type": "markdown",
   "metadata": {},
   "source": [
    "## stepwise selection lm did not remove features\n"
   ]
  },
  {
   "cell_type": "markdown",
   "metadata": {},
   "source": [
    "## feautre importance "
   ]
  },
  {
   "cell_type": "code",
   "execution_count": 61,
   "metadata": {},
   "outputs": [
    {
     "data": {
      "image/png": "[encoded data removed]",
      "text/plain": [
       "<Figure size 432x288 with 1 Axes>"
      ]
     },
     "metadata": {
      "needs_background": "light"
     },
     "output_type": "display_data"
    }
   ],
   "source": [
    "import scipy.stats as stats\n",
    "import statsmodels.api as sm\n",
    "\n",
    "cols = list(df_linear.columns)\n",
    "pmax = 1\n",
    "while (len(cols)>0):\n",
    "    p= []\n",
    "    X_1 = df_linear[cols]\n",
    "    X_1 = sm.add_constant(X_1)\n",
    "    model = sm.OLS(y_linear,X_1).fit()\n",
    "    p = pd.Series(model.pvalues.values[1:],index = cols)      \n",
    "    pmax = max(p)\n",
    "    feature_with_p_max = p.idxmax()\n",
    "    if(pmax>0.05):\n",
    "        cols.remove(feature_with_p_max)\n",
    "    else:\n",
    "        break\n",
    "selected_features_BE = cols\n",
    "#print('selected features after stepwise selection: ',selected_features_BE)\n",
    "\n",
    "\n",
    "\n",
    "# Standard Coefficient plot\n",
    "\n",
    "coef_dict_baseline = {}\n",
    "for coef, feat in zip(lreg_DL.coef_,df_linear.columns):\n",
    "    coef_dict_baseline[feat] = coef\n",
    "\n",
    "\n",
    "\n",
    "names = list(coef_dict_baseline.keys())\n",
    "values = list(coef_dict_baseline.values())\n",
    "\n",
    "#tick_label does the some work as plt.xticks()\n",
    "plt.barh(range(len(coef_dict_baseline)),values,tick_label=names)\n",
    "\n",
    "\n",
    "plt.xlabel('Standard Coefficient')\n",
    "plt.ylabel('features')\n",
    "plt.title('Standard Coefficient magnitudes of Linear Rgression ')\n",
    "plt.show()"
   ]
  },
  {
   "cell_type": "markdown",
   "metadata": {},
   "source": [
    "# drop insignificant features"
   ]
  },
  {
   "cell_type": "code",
   "execution_count": 54,
   "metadata": {},
   "outputs": [
    {
     "name": "stdout",
     "output_type": "stream",
     "text": [
      "LinearRegression()\n",
      "\n",
      "Linear Regression Performance Metrics testing\n",
      "R^2= 0.7521244633329872\n",
      "MAE: 6.683169874609952\n",
      "MSE: 80.53926147664625\n",
      "RMSE: 8.97436691230341\n",
      "\n",
      "Linear Regression Performance Metrics training\n",
      "R^2= 0.7495200198856715\n",
      "MAE: 6.715133154728771\n",
      "MSE: 81.43030333606809\n",
      "RMSE: 9.023874075809575\n"
     ]
    }
   ],
   "source": [
    "df_linear2 = ndf_DL.loc[:,['DEPARTURE_DELAY','TAXI_OUT',\n",
    "                'TAXI_IN','trip_speed','take_off_hours']].copy()\n",
    "y_linear2 = ndf_DL.ARRIVAL_DELAY\n",
    "\n",
    "d_trainL2,d_testL2,y_trainL2,y_testL2 = train_test_split(df_linear2,y_linear2,test_size = 0.3,random_state = 62)\n",
    "\n",
    "\n",
    "\n",
    "\n",
    "lreg_DL2 = LinearRegression()\n",
    "lreg_DL2.fit(d_trainL2,y_trainL2)\n",
    "print(lreg_DL2)\n",
    "\n",
    "y_pred_lreg_DL2 = lreg_DL2.predict(d_testL2)\n",
    "y_train_lreg_DL2 = lreg_DL2.predict(d_trainL2)\n",
    "\n",
    "# Score It\n",
    "from sklearn import metrics\n",
    "print('\\nLinear Regression Performance Metrics testing')\n",
    "print('R^2=',metrics.explained_variance_score(y_testL2,y_pred_lreg_DL2))\n",
    "print('MAE:',metrics.mean_absolute_error(y_testL2,y_pred_lreg_DL2))\n",
    "print('MSE:',metrics.mean_squared_error(y_testL2,y_pred_lreg_DL2))\n",
    "print('RMSE:',np.sqrt(metrics.mean_squared_error(y_testL2,y_pred_lreg_DL2)))\n",
    "\n",
    "# Score It\n",
    "from sklearn import metrics\n",
    "print('\\nLinear Regression Performance Metrics training')\n",
    "print('R^2=',metrics.explained_variance_score(y_trainL2,y_train_lreg_DL2))\n",
    "print('MAE:',metrics.mean_absolute_error(y_trainL2,y_train_lreg_DL2))\n",
    "print('MSE:',metrics.mean_squared_error(y_trainL2,y_train_lreg_DL2))\n",
    "print('RMSE:',np.sqrt(metrics.mean_squared_error(y_trainL2,y_train_lreg_DL2)))"
   ]
  },
  {
   "cell_type": "code",
   "execution_count": null,
   "metadata": {},
   "outputs": [],
   "source": []
  }
 ],
 "metadata": {
  "kernelspec": {
   "display_name": "Python 3",
   "language": "python",
   "name": "python3"
  },
  "language_info": {
   "codemirror_mode": {
    "name": "ipython",
    "version": 3
   },
   "file_extension": ".py",
   "mimetype": "text/x-python",
   "name": "python",
   "nbconvert_exporter": "python",
   "pygments_lexer": "ipython3",
   "version": "3.8.3"
  }
 },
 "nbformat": 4,
 "nbformat_minor": 2
}
